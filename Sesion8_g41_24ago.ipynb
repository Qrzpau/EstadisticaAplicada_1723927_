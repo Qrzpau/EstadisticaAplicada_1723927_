{
 "cells": [
  {
   "cell_type": "markdown",
   "metadata": {},
   "source": [
    "## Estadística Aplicada\n",
    "\n",
    "Sesion 8 - 24 agosto\n",
    "\n",
    "Paulina Quiroz Sánchez 1723927\n",
    "\n",
    "grupo 41"
   ]
  },
  {
   "cell_type": "code",
   "execution_count": 1,
   "metadata": {},
   "outputs": [],
   "source": [
    "#librerias basicas\n",
    "import numpy as np\n",
    "import pandas as pd\n",
    "import matplotlib.pyplot as plt\n",
    "%matplotlib inline"
   ]
  },
  {
   "cell_type": "code",
   "execution_count": 2,
   "metadata": {},
   "outputs": [],
   "source": [
    "#librerias especializadas\n",
    "import statsmodels.formula.api as smf"
   ]
  },
  {
   "cell_type": "code",
   "execution_count": 7,
   "metadata": {},
   "outputs": [],
   "source": [
    "datos = pd.read_excel('modelolineal.xlsx')\n",
    "datos = datos[['Y', 'X']]"
   ]
  },
  {
   "cell_type": "code",
   "execution_count": 8,
   "metadata": {},
   "outputs": [
    {
     "data": {
      "text/html": [
       "<div>\n",
       "<style scoped>\n",
       "    .dataframe tbody tr th:only-of-type {\n",
       "        vertical-align: middle;\n",
       "    }\n",
       "\n",
       "    .dataframe tbody tr th {\n",
       "        vertical-align: top;\n",
       "    }\n",
       "\n",
       "    .dataframe thead th {\n",
       "        text-align: right;\n",
       "    }\n",
       "</style>\n",
       "<table border=\"1\" class=\"dataframe\">\n",
       "  <thead>\n",
       "    <tr style=\"text-align: right;\">\n",
       "      <th></th>\n",
       "      <th>Y</th>\n",
       "      <th>X</th>\n",
       "    </tr>\n",
       "  </thead>\n",
       "  <tbody>\n",
       "    <tr>\n",
       "      <th>0</th>\n",
       "      <td>19.246957</td>\n",
       "      <td>23</td>\n",
       "    </tr>\n",
       "    <tr>\n",
       "      <th>1</th>\n",
       "      <td>16.878501</td>\n",
       "      <td>19</td>\n",
       "    </tr>\n",
       "    <tr>\n",
       "      <th>2</th>\n",
       "      <td>20.187237</td>\n",
       "      <td>27</td>\n",
       "    </tr>\n",
       "    <tr>\n",
       "      <th>3</th>\n",
       "      <td>12.176789</td>\n",
       "      <td>13</td>\n",
       "    </tr>\n",
       "    <tr>\n",
       "      <th>4</th>\n",
       "      <td>21.420112</td>\n",
       "      <td>21</td>\n",
       "    </tr>\n",
       "    <tr>\n",
       "      <th>5</th>\n",
       "      <td>24.436799</td>\n",
       "      <td>22</td>\n",
       "    </tr>\n",
       "    <tr>\n",
       "      <th>6</th>\n",
       "      <td>14.507928</td>\n",
       "      <td>19</td>\n",
       "    </tr>\n",
       "    <tr>\n",
       "      <th>7</th>\n",
       "      <td>16.013496</td>\n",
       "      <td>14</td>\n",
       "    </tr>\n",
       "    <tr>\n",
       "      <th>8</th>\n",
       "      <td>12.043514</td>\n",
       "      <td>3</td>\n",
       "    </tr>\n",
       "    <tr>\n",
       "      <th>9</th>\n",
       "      <td>6.808838</td>\n",
       "      <td>1</td>\n",
       "    </tr>\n",
       "    <tr>\n",
       "      <th>10</th>\n",
       "      <td>20.473608</td>\n",
       "      <td>19</td>\n",
       "    </tr>\n",
       "    <tr>\n",
       "      <th>11</th>\n",
       "      <td>19.688717</td>\n",
       "      <td>18</td>\n",
       "    </tr>\n",
       "    <tr>\n",
       "      <th>12</th>\n",
       "      <td>20.405782</td>\n",
       "      <td>12</td>\n",
       "    </tr>\n",
       "    <tr>\n",
       "      <th>13</th>\n",
       "      <td>24.959259</td>\n",
       "      <td>16</td>\n",
       "    </tr>\n",
       "    <tr>\n",
       "      <th>14</th>\n",
       "      <td>23.913532</td>\n",
       "      <td>29</td>\n",
       "    </tr>\n",
       "    <tr>\n",
       "      <th>15</th>\n",
       "      <td>22.719407</td>\n",
       "      <td>23</td>\n",
       "    </tr>\n",
       "    <tr>\n",
       "      <th>16</th>\n",
       "      <td>18.680587</td>\n",
       "      <td>14</td>\n",
       "    </tr>\n",
       "    <tr>\n",
       "      <th>17</th>\n",
       "      <td>17.192583</td>\n",
       "      <td>20</td>\n",
       "    </tr>\n",
       "    <tr>\n",
       "      <th>18</th>\n",
       "      <td>28.422786</td>\n",
       "      <td>27</td>\n",
       "    </tr>\n",
       "    <tr>\n",
       "      <th>19</th>\n",
       "      <td>24.757379</td>\n",
       "      <td>28</td>\n",
       "    </tr>\n",
       "    <tr>\n",
       "      <th>20</th>\n",
       "      <td>9.544102</td>\n",
       "      <td>0</td>\n",
       "    </tr>\n",
       "    <tr>\n",
       "      <th>21</th>\n",
       "      <td>24.230330</td>\n",
       "      <td>20</td>\n",
       "    </tr>\n",
       "    <tr>\n",
       "      <th>22</th>\n",
       "      <td>26.417826</td>\n",
       "      <td>24</td>\n",
       "    </tr>\n",
       "    <tr>\n",
       "      <th>23</th>\n",
       "      <td>23.066723</td>\n",
       "      <td>23</td>\n",
       "    </tr>\n",
       "    <tr>\n",
       "      <th>24</th>\n",
       "      <td>13.145005</td>\n",
       "      <td>8</td>\n",
       "    </tr>\n",
       "    <tr>\n",
       "      <th>25</th>\n",
       "      <td>24.385156</td>\n",
       "      <td>24</td>\n",
       "    </tr>\n",
       "    <tr>\n",
       "      <th>26</th>\n",
       "      <td>12.934102</td>\n",
       "      <td>10</td>\n",
       "    </tr>\n",
       "    <tr>\n",
       "      <th>27</th>\n",
       "      <td>14.002469</td>\n",
       "      <td>4</td>\n",
       "    </tr>\n",
       "    <tr>\n",
       "      <th>28</th>\n",
       "      <td>26.599047</td>\n",
       "      <td>29</td>\n",
       "    </tr>\n",
       "    <tr>\n",
       "      <th>29</th>\n",
       "      <td>11.910387</td>\n",
       "      <td>10</td>\n",
       "    </tr>\n",
       "  </tbody>\n",
       "</table>\n",
       "</div>"
      ],
      "text/plain": [
       "            Y   X\n",
       "0   19.246957  23\n",
       "1   16.878501  19\n",
       "2   20.187237  27\n",
       "3   12.176789  13\n",
       "4   21.420112  21\n",
       "5   24.436799  22\n",
       "6   14.507928  19\n",
       "7   16.013496  14\n",
       "8   12.043514   3\n",
       "9    6.808838   1\n",
       "10  20.473608  19\n",
       "11  19.688717  18\n",
       "12  20.405782  12\n",
       "13  24.959259  16\n",
       "14  23.913532  29\n",
       "15  22.719407  23\n",
       "16  18.680587  14\n",
       "17  17.192583  20\n",
       "18  28.422786  27\n",
       "19  24.757379  28\n",
       "20   9.544102   0\n",
       "21  24.230330  20\n",
       "22  26.417826  24\n",
       "23  23.066723  23\n",
       "24  13.145005   8\n",
       "25  24.385156  24\n",
       "26  12.934102  10\n",
       "27  14.002469   4\n",
       "28  26.599047  29\n",
       "29  11.910387  10"
      ]
     },
     "execution_count": 8,
     "metadata": {},
     "output_type": "execute_result"
    }
   ],
   "source": [
    "datos"
   ]
  },
  {
   "cell_type": "markdown",
   "metadata": {},
   "source": [
    "estimar $Y = \\beta_0 + \\beta_1 X$"
   ]
  },
  {
   "cell_type": "code",
   "execution_count": 12,
   "metadata": {},
   "outputs": [
    {
     "name": "stdout",
     "output_type": "stream",
     "text": [
      "                            OLS Regression Results                            \n",
      "==============================================================================\n",
      "Dep. Variable:                      Y   R-squared:                       0.732\n",
      "Model:                            OLS   Adj. R-squared:                  0.722\n",
      "Method:                 Least Squares   F-statistic:                     76.40\n",
      "Date:                Thu, 24 Aug 2023   Prob (F-statistic):           1.72e-09\n",
      "Time:                        14:21:49   Log-Likelihood:                -74.480\n",
      "No. Observations:                  30   AIC:                             153.0\n",
      "Df Residuals:                      28   BIC:                             155.8\n",
      "Df Model:                           1                                         \n",
      "Covariance Type:            nonrobust                                         \n",
      "==============================================================================\n",
      "                 coef    std err          t      P>|t|      [0.025      0.975]\n",
      "------------------------------------------------------------------------------\n",
      "Intercept      8.9619      1.276      7.022      0.000       6.347      11.576\n",
      "X              0.5814      0.067      8.740      0.000       0.445       0.718\n",
      "==============================================================================\n",
      "Omnibus:                        0.249   Durbin-Watson:                   1.658\n",
      "Prob(Omnibus):                  0.883   Jarque-Bera (JB):                0.440\n",
      "Skew:                           0.121   Prob(JB):                        0.803\n",
      "Kurtosis:                       2.459   Cond. No.                         44.8\n",
      "==============================================================================\n",
      "\n",
      "Notes:\n",
      "[1] Standard Errors assume that the covariance matrix of the errors is correctly specified.\n"
     ]
    }
   ],
   "source": [
    "##especificamos\n",
    "reg1 = smf.ols(formula='Y~X', data =datos)\n",
    "#estimacion\n",
    "results1 = reg1.fit()\n",
    "## mostramos el modelo\n",
    "print(results1.summary())"
   ]
  },
  {
   "cell_type": "markdown",
   "metadata": {},
   "source": [
    "Para evaluar un modelo generalmente se usa $R^2$. Pero no es la unica medida utilizada, también se suele usar con bastante frecuencia el MAD, MAPE Y MSD.\n",
    "\n",
    "MAD: desviación absoluta media.\n",
    "\n",
    "MSD: desviación cuadrática media.\n",
    "\n",
    "MAPE: error porcentual absoluto medio. "
   ]
  },
  {
   "cell_type": "markdown",
   "metadata": {},
   "source": [
    "$MAD= \\sum \\abs(Y-\\hat(Y))$"
   ]
  },
  {
   "cell_type": "markdown",
   "metadata": {},
   "source": [
    "El MAD, quien tenga menor MAD es el mejor modelo.\n",
    "\n",
    "Los datos que usamos para estimar el modelo tambien los usamos para evaluar el modelo. Lo que se sugiere es que con unos datos estimemos los coeficientes de las betas y con otros datos evaluamos el modelo.\n",
    "Para estimar el modelo se requiere el conjunto de entrenamiento, TRAIN SET, el conjunto de evaluación en inglés es TEST SET.\n",
    "\n",
    "La base de datos original se parte en dos, uno se llama conjunto de entrenamiento y otro conjunto de evaluaciones. Usualmente se hace 80 / 20 (80% entrenamiento y 20% para evaluación)\n"
   ]
  },
  {
   "cell_type": "code",
   "execution_count": 14,
   "metadata": {},
   "outputs": [],
   "source": [
    "## Definir el conjunto de prueba y el conjunto de evaluación\n",
    "## generar X2\n",
    "datos['X2'] = datos ['X'] ** 2\n",
    "\n",
    "## [:20] significa que tome los primeros 20 datos de la tabla\n",
    "train_set = datos[:20] \n",
    "test_set = datos[20:]"
   ]
  },
  {
   "cell_type": "code",
   "execution_count": 15,
   "metadata": {},
   "outputs": [
    {
     "data": {
      "text/html": [
       "<div>\n",
       "<style scoped>\n",
       "    .dataframe tbody tr th:only-of-type {\n",
       "        vertical-align: middle;\n",
       "    }\n",
       "\n",
       "    .dataframe tbody tr th {\n",
       "        vertical-align: top;\n",
       "    }\n",
       "\n",
       "    .dataframe thead th {\n",
       "        text-align: right;\n",
       "    }\n",
       "</style>\n",
       "<table border=\"1\" class=\"dataframe\">\n",
       "  <thead>\n",
       "    <tr style=\"text-align: right;\">\n",
       "      <th></th>\n",
       "      <th>Y</th>\n",
       "      <th>X</th>\n",
       "      <th>X2</th>\n",
       "    </tr>\n",
       "  </thead>\n",
       "  <tbody>\n",
       "    <tr>\n",
       "      <th>20</th>\n",
       "      <td>9.544102</td>\n",
       "      <td>0</td>\n",
       "      <td>0</td>\n",
       "    </tr>\n",
       "    <tr>\n",
       "      <th>21</th>\n",
       "      <td>24.230330</td>\n",
       "      <td>20</td>\n",
       "      <td>400</td>\n",
       "    </tr>\n",
       "    <tr>\n",
       "      <th>22</th>\n",
       "      <td>26.417826</td>\n",
       "      <td>24</td>\n",
       "      <td>576</td>\n",
       "    </tr>\n",
       "    <tr>\n",
       "      <th>23</th>\n",
       "      <td>23.066723</td>\n",
       "      <td>23</td>\n",
       "      <td>529</td>\n",
       "    </tr>\n",
       "    <tr>\n",
       "      <th>24</th>\n",
       "      <td>13.145005</td>\n",
       "      <td>8</td>\n",
       "      <td>64</td>\n",
       "    </tr>\n",
       "    <tr>\n",
       "      <th>25</th>\n",
       "      <td>24.385156</td>\n",
       "      <td>24</td>\n",
       "      <td>576</td>\n",
       "    </tr>\n",
       "    <tr>\n",
       "      <th>26</th>\n",
       "      <td>12.934102</td>\n",
       "      <td>10</td>\n",
       "      <td>100</td>\n",
       "    </tr>\n",
       "    <tr>\n",
       "      <th>27</th>\n",
       "      <td>14.002469</td>\n",
       "      <td>4</td>\n",
       "      <td>16</td>\n",
       "    </tr>\n",
       "    <tr>\n",
       "      <th>28</th>\n",
       "      <td>26.599047</td>\n",
       "      <td>29</td>\n",
       "      <td>841</td>\n",
       "    </tr>\n",
       "    <tr>\n",
       "      <th>29</th>\n",
       "      <td>11.910387</td>\n",
       "      <td>10</td>\n",
       "      <td>100</td>\n",
       "    </tr>\n",
       "  </tbody>\n",
       "</table>\n",
       "</div>"
      ],
      "text/plain": [
       "            Y   X   X2\n",
       "20   9.544102   0    0\n",
       "21  24.230330  20  400\n",
       "22  26.417826  24  576\n",
       "23  23.066723  23  529\n",
       "24  13.145005   8   64\n",
       "25  24.385156  24  576\n",
       "26  12.934102  10  100\n",
       "27  14.002469   4   16\n",
       "28  26.599047  29  841\n",
       "29  11.910387  10  100"
      ]
     },
     "execution_count": 15,
     "metadata": {},
     "output_type": "execute_result"
    }
   ],
   "source": [
    "test_set"
   ]
  },
  {
   "cell_type": "markdown",
   "metadata": {},
   "source": [
    "Vamos a estimar el primer modelo\n",
    "$Y = \\beta_0 + \\beta_1 X$"
   ]
  },
  {
   "cell_type": "code",
   "execution_count": 16,
   "metadata": {},
   "outputs": [],
   "source": [
    "##Definimos el modelo\n",
    "reg_m1 = smf.ols(formula='Y~X', data=train_set)\n",
    "## estimamos\n",
    "results_m1 = reg_m1.fit()"
   ]
  },
  {
   "cell_type": "code",
   "execution_count": 18,
   "metadata": {},
   "outputs": [
    {
     "data": {
      "text/plain": [
       "9.233587310418212"
      ]
     },
     "execution_count": 18,
     "metadata": {},
     "output_type": "execute_result"
    }
   ],
   "source": [
    "#intercepto\n",
    "results_m1.params[0]"
   ]
  },
  {
   "cell_type": "code",
   "execution_count": 20,
   "metadata": {},
   "outputs": [
    {
     "data": {
      "text/plain": [
       "0.5441903879851918"
      ]
     },
     "execution_count": 20,
     "metadata": {},
     "output_type": "execute_result"
    }
   ],
   "source": [
    "#Coeficiente de B1\n",
    "results_m1.params[1]"
   ]
  },
  {
   "cell_type": "code",
   "execution_count": 21,
   "metadata": {},
   "outputs": [],
   "source": [
    "bo = results_m1.params[0]\n",
    "b1 = results_m1.params[1]"
   ]
  },
  {
   "cell_type": "code",
   "execution_count": 22,
   "metadata": {},
   "outputs": [
    {
     "name": "stderr",
     "output_type": "stream",
     "text": [
      "C:\\Users\\FCFM\\AppData\\Local\\Temp\\ipykernel_7592\\2736279893.py:2: SettingWithCopyWarning: \n",
      "A value is trying to be set on a copy of a slice from a DataFrame.\n",
      "Try using .loc[row_indexer,col_indexer] = value instead\n",
      "\n",
      "See the caveats in the documentation: https://pandas.pydata.org/pandas-docs/stable/user_guide/indexing.html#returning-a-view-versus-a-copy\n",
      "  test_set['Y_hat'] = bo + (b1 * test_set['X'])\n"
     ]
    }
   ],
   "source": [
    "## pronostico en conjunto de evaluacion\n",
    "test_set['Y_hat'] = bo + (b1 * test_set['X'])"
   ]
  },
  {
   "cell_type": "code",
   "execution_count": 23,
   "metadata": {},
   "outputs": [
    {
     "data": {
      "text/html": [
       "<div>\n",
       "<style scoped>\n",
       "    .dataframe tbody tr th:only-of-type {\n",
       "        vertical-align: middle;\n",
       "    }\n",
       "\n",
       "    .dataframe tbody tr th {\n",
       "        vertical-align: top;\n",
       "    }\n",
       "\n",
       "    .dataframe thead th {\n",
       "        text-align: right;\n",
       "    }\n",
       "</style>\n",
       "<table border=\"1\" class=\"dataframe\">\n",
       "  <thead>\n",
       "    <tr style=\"text-align: right;\">\n",
       "      <th></th>\n",
       "      <th>Y</th>\n",
       "      <th>X</th>\n",
       "      <th>X2</th>\n",
       "      <th>Y_hat</th>\n",
       "    </tr>\n",
       "  </thead>\n",
       "  <tbody>\n",
       "    <tr>\n",
       "      <th>20</th>\n",
       "      <td>9.544102</td>\n",
       "      <td>0</td>\n",
       "      <td>0</td>\n",
       "      <td>9.233587</td>\n",
       "    </tr>\n",
       "    <tr>\n",
       "      <th>21</th>\n",
       "      <td>24.230330</td>\n",
       "      <td>20</td>\n",
       "      <td>400</td>\n",
       "      <td>20.117395</td>\n",
       "    </tr>\n",
       "    <tr>\n",
       "      <th>22</th>\n",
       "      <td>26.417826</td>\n",
       "      <td>24</td>\n",
       "      <td>576</td>\n",
       "      <td>22.294157</td>\n",
       "    </tr>\n",
       "    <tr>\n",
       "      <th>23</th>\n",
       "      <td>23.066723</td>\n",
       "      <td>23</td>\n",
       "      <td>529</td>\n",
       "      <td>21.749966</td>\n",
       "    </tr>\n",
       "    <tr>\n",
       "      <th>24</th>\n",
       "      <td>13.145005</td>\n",
       "      <td>8</td>\n",
       "      <td>64</td>\n",
       "      <td>13.587110</td>\n",
       "    </tr>\n",
       "    <tr>\n",
       "      <th>25</th>\n",
       "      <td>24.385156</td>\n",
       "      <td>24</td>\n",
       "      <td>576</td>\n",
       "      <td>22.294157</td>\n",
       "    </tr>\n",
       "    <tr>\n",
       "      <th>26</th>\n",
       "      <td>12.934102</td>\n",
       "      <td>10</td>\n",
       "      <td>100</td>\n",
       "      <td>14.675491</td>\n",
       "    </tr>\n",
       "    <tr>\n",
       "      <th>27</th>\n",
       "      <td>14.002469</td>\n",
       "      <td>4</td>\n",
       "      <td>16</td>\n",
       "      <td>11.410349</td>\n",
       "    </tr>\n",
       "    <tr>\n",
       "      <th>28</th>\n",
       "      <td>26.599047</td>\n",
       "      <td>29</td>\n",
       "      <td>841</td>\n",
       "      <td>25.015109</td>\n",
       "    </tr>\n",
       "    <tr>\n",
       "      <th>29</th>\n",
       "      <td>11.910387</td>\n",
       "      <td>10</td>\n",
       "      <td>100</td>\n",
       "      <td>14.675491</td>\n",
       "    </tr>\n",
       "  </tbody>\n",
       "</table>\n",
       "</div>"
      ],
      "text/plain": [
       "            Y   X   X2      Y_hat\n",
       "20   9.544102   0    0   9.233587\n",
       "21  24.230330  20  400  20.117395\n",
       "22  26.417826  24  576  22.294157\n",
       "23  23.066723  23  529  21.749966\n",
       "24  13.145005   8   64  13.587110\n",
       "25  24.385156  24  576  22.294157\n",
       "26  12.934102  10  100  14.675491\n",
       "27  14.002469   4   16  11.410349\n",
       "28  26.599047  29  841  25.015109\n",
       "29  11.910387  10  100  14.675491"
      ]
     },
     "execution_count": 23,
     "metadata": {},
     "output_type": "execute_result"
    }
   ],
   "source": [
    "test_set"
   ]
  },
  {
   "cell_type": "code",
   "execution_count": 24,
   "metadata": {},
   "outputs": [],
   "source": [
    "## Estimar \n",
    "MAD = (test_set['Y']-test_set['Y_hat']).abs().mean()"
   ]
  },
  {
   "cell_type": "code",
   "execution_count": 25,
   "metadata": {},
   "outputs": [
    {
     "name": "stdout",
     "output_type": "stream",
     "text": [
      "2.107953156470989\n"
     ]
    }
   ],
   "source": [
    "print(MAD)"
   ]
  },
  {
   "cell_type": "code",
   "execution_count": 31,
   "metadata": {},
   "outputs": [
    {
     "name": "stderr",
     "output_type": "stream",
     "text": [
      "C:\\Users\\FCFM\\AppData\\Local\\Temp\\ipykernel_7592\\151227280.py:11: SettingWithCopyWarning: \n",
      "A value is trying to be set on a copy of a slice from a DataFrame.\n",
      "Try using .loc[row_indexer,col_indexer] = value instead\n",
      "\n",
      "See the caveats in the documentation: https://pandas.pydata.org/pandas-docs/stable/user_guide/indexing.html#returning-a-view-versus-a-copy\n",
      "  test_set['Y_hat2']= b0 + b1*test_set['X'] + b2*test_set['X2']\n"
     ]
    }
   ],
   "source": [
    "## ESPECIFICAR MODELO 2\n",
    "reg2 = smf.ols(formula='Y~X+X2', data= train_set)\n",
    "## ESTIMAR MODELO\n",
    "results_m2 = reg2.fit()\n",
    "## Como son dos variables mas el intercepto son 3 betas\n",
    "b0 = results_m2.params[0]\n",
    "b1 = results_m2.params[1]\n",
    "b2 = results_m2.params[2]\n",
    "\n",
    "## pronosticamos el conjunto de evaluacion\n",
    "test_set['Y_hat2']= b0 + b1*test_set['X'] + b2*test_set['X2']\n",
    "\n",
    "##Evaluamos con MAD\n",
    "MAD2 = (test_set ['Y']-test_set['Y_hat2']).abs().mean()"
   ]
  },
  {
   "cell_type": "code",
   "execution_count": 33,
   "metadata": {},
   "outputs": [
    {
     "name": "stdout",
     "output_type": "stream",
     "text": [
      "2.11 2.33\n"
     ]
    }
   ],
   "source": [
    "print(MAD.round(2), MAD2.round(2))"
   ]
  },
  {
   "cell_type": "markdown",
   "metadata": {},
   "source": [
    "El mejor modelo segun MAD y utilizando validacion cruzada es el modelo $Y = \\beta_0 + \\beta_1 X$"
   ]
  }
 ],
 "metadata": {
  "kernelspec": {
   "display_name": "base",
   "language": "python",
   "name": "python3"
  },
  "language_info": {
   "codemirror_mode": {
    "name": "ipython",
    "version": 3
   },
   "file_extension": ".py",
   "mimetype": "text/x-python",
   "name": "python",
   "nbconvert_exporter": "python",
   "pygments_lexer": "ipython3",
   "version": "3.10.9"
  },
  "orig_nbformat": 4
 },
 "nbformat": 4,
 "nbformat_minor": 2
}
