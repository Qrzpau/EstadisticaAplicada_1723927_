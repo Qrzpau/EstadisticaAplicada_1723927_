{
  "nbformat": 4,
  "nbformat_minor": 0,
  "metadata": {
    "colab": {
      "provenance": []
    },
    "kernelspec": {
      "name": "python3",
      "display_name": "Python 3"
    },
    "language_info": {
      "name": "python"
    }
  },
  "cells": [
    {
      "cell_type": "markdown",
      "source": [
        "##Estadística Aplicada\n",
        "\n",
        "Paulina Quiroz Sánchez  1723927\n",
        "\n",
        "Grupo 41"
      ],
      "metadata": {
        "id": "91k8aZ4WVHaK"
      }
    },
    {
      "cell_type": "code",
      "source": [
        "#Librerías Básicas\n",
        "import numpy as np\n",
        "import pandas as pd\n",
        "import matplotlib.pyplot as plt\n",
        "%matplotlib inline"
      ],
      "metadata": {
        "id": "J-5eBL7q0Ae7"
      },
      "execution_count": 5,
      "outputs": []
    },
    {
      "cell_type": "code",
      "source": [
        "pip install pmdarima"
      ],
      "metadata": {
        "colab": {
          "base_uri": "https://localhost:8080/"
        },
        "id": "sC8G2CVM0XHa",
        "outputId": "0ff97d72-8e78-495d-8261-a9c3af269890"
      },
      "execution_count": 6,
      "outputs": [
        {
          "output_type": "stream",
          "name": "stdout",
          "text": [
            "Requirement already satisfied: pmdarima in /usr/local/lib/python3.10/dist-packages (2.0.4)\n",
            "Requirement already satisfied: joblib>=0.11 in /usr/local/lib/python3.10/dist-packages (from pmdarima) (1.3.2)\n",
            "Requirement already satisfied: Cython!=0.29.18,!=0.29.31,>=0.29 in /usr/local/lib/python3.10/dist-packages (from pmdarima) (3.0.4)\n",
            "Requirement already satisfied: numpy>=1.21.2 in /usr/local/lib/python3.10/dist-packages (from pmdarima) (1.23.5)\n",
            "Requirement already satisfied: pandas>=0.19 in /usr/local/lib/python3.10/dist-packages (from pmdarima) (1.5.3)\n",
            "Requirement already satisfied: scikit-learn>=0.22 in /usr/local/lib/python3.10/dist-packages (from pmdarima) (1.2.2)\n",
            "Requirement already satisfied: scipy>=1.3.2 in /usr/local/lib/python3.10/dist-packages (from pmdarima) (1.11.3)\n",
            "Requirement already satisfied: statsmodels>=0.13.2 in /usr/local/lib/python3.10/dist-packages (from pmdarima) (0.14.0)\n",
            "Requirement already satisfied: urllib3 in /usr/local/lib/python3.10/dist-packages (from pmdarima) (2.0.7)\n",
            "Requirement already satisfied: setuptools!=50.0.0,>=38.6.0 in /usr/local/lib/python3.10/dist-packages (from pmdarima) (67.7.2)\n",
            "Requirement already satisfied: packaging>=17.1 in /usr/local/lib/python3.10/dist-packages (from pmdarima) (23.2)\n",
            "Requirement already satisfied: python-dateutil>=2.8.1 in /usr/local/lib/python3.10/dist-packages (from pandas>=0.19->pmdarima) (2.8.2)\n",
            "Requirement already satisfied: pytz>=2020.1 in /usr/local/lib/python3.10/dist-packages (from pandas>=0.19->pmdarima) (2023.3.post1)\n",
            "Requirement already satisfied: threadpoolctl>=2.0.0 in /usr/local/lib/python3.10/dist-packages (from scikit-learn>=0.22->pmdarima) (3.2.0)\n",
            "Requirement already satisfied: patsy>=0.5.2 in /usr/local/lib/python3.10/dist-packages (from statsmodels>=0.13.2->pmdarima) (0.5.3)\n",
            "Requirement already satisfied: six in /usr/local/lib/python3.10/dist-packages (from patsy>=0.5.2->statsmodels>=0.13.2->pmdarima) (1.16.0)\n"
          ]
        }
      ]
    },
    {
      "cell_type": "code",
      "source": [
        "#especializadas\n",
        "from statsmodels.tsa.stattools import adfuller\n",
        "from statsmodels.graphics.tsaplots import plot_acf, plot_pacf, plot_predict\n",
        "\n",
        "#arima\n",
        "from statsmodels.tsa.arima.model import ARIMA\n",
        "\n",
        "##\n",
        "import pmdarima as pm"
      ],
      "metadata": {
        "id": "dPK1b9c_0az7"
      },
      "execution_count": 7,
      "outputs": []
    },
    {
      "cell_type": "markdown",
      "source": [
        "\n",
        "1.Descargar  la  base  de  datos con  base  en  el  video  adjunto,  se  debe  elegir  un periodo y en la notebook se debe justificar el periodo elegido."
      ],
      "metadata": {
        "id": "SCPF1aYEVksv"
      }
    },
    {
      "cell_type": "code",
      "execution_count": 8,
      "metadata": {
        "id": "fphc157iU_Ql"
      },
      "outputs": [],
      "source": [
        "#Cargar base de datos\n",
        "indicadores = pd.read_excel('/content/Indicadores.xls')"
      ]
    },
    {
      "cell_type": "code",
      "source": [
        "indicadores.head()"
      ],
      "metadata": {
        "id": "2xP6Q2aF2Nhk",
        "colab": {
          "base_uri": "https://localhost:8080/",
          "height": 206
        },
        "outputId": "b2e89721-b457-45dd-be8d-04fceb3b5d21"
      },
      "execution_count": 9,
      "outputs": [
        {
          "output_type": "execute_result",
          "data": {
            "text/plain": [
              "  Periodos   IMCMI_SA\n",
              "0  1993/01  52.535712\n",
              "1  1993/02  53.260021\n",
              "2  1993/03  53.921865\n",
              "3  1993/04  53.102741\n",
              "4  1993/05  54.042567"
            ],
            "text/html": [
              "\n",
              "  <div id=\"df-87178073-4e0b-451b-84b4-08a11f1f3eda\" class=\"colab-df-container\">\n",
              "    <div>\n",
              "<style scoped>\n",
              "    .dataframe tbody tr th:only-of-type {\n",
              "        vertical-align: middle;\n",
              "    }\n",
              "\n",
              "    .dataframe tbody tr th {\n",
              "        vertical-align: top;\n",
              "    }\n",
              "\n",
              "    .dataframe thead th {\n",
              "        text-align: right;\n",
              "    }\n",
              "</style>\n",
              "<table border=\"1\" class=\"dataframe\">\n",
              "  <thead>\n",
              "    <tr style=\"text-align: right;\">\n",
              "      <th></th>\n",
              "      <th>Periodos</th>\n",
              "      <th>IMCMI_SA</th>\n",
              "    </tr>\n",
              "  </thead>\n",
              "  <tbody>\n",
              "    <tr>\n",
              "      <th>0</th>\n",
              "      <td>1993/01</td>\n",
              "      <td>52.535712</td>\n",
              "    </tr>\n",
              "    <tr>\n",
              "      <th>1</th>\n",
              "      <td>1993/02</td>\n",
              "      <td>53.260021</td>\n",
              "    </tr>\n",
              "    <tr>\n",
              "      <th>2</th>\n",
              "      <td>1993/03</td>\n",
              "      <td>53.921865</td>\n",
              "    </tr>\n",
              "    <tr>\n",
              "      <th>3</th>\n",
              "      <td>1993/04</td>\n",
              "      <td>53.102741</td>\n",
              "    </tr>\n",
              "    <tr>\n",
              "      <th>4</th>\n",
              "      <td>1993/05</td>\n",
              "      <td>54.042567</td>\n",
              "    </tr>\n",
              "  </tbody>\n",
              "</table>\n",
              "</div>\n",
              "    <div class=\"colab-df-buttons\">\n",
              "\n",
              "  <div class=\"colab-df-container\">\n",
              "    <button class=\"colab-df-convert\" onclick=\"convertToInteractive('df-87178073-4e0b-451b-84b4-08a11f1f3eda')\"\n",
              "            title=\"Convert this dataframe to an interactive table.\"\n",
              "            style=\"display:none;\">\n",
              "\n",
              "  <svg xmlns=\"http://www.w3.org/2000/svg\" height=\"24px\" viewBox=\"0 -960 960 960\">\n",
              "    <path d=\"M120-120v-720h720v720H120Zm60-500h600v-160H180v160Zm220 220h160v-160H400v160Zm0 220h160v-160H400v160ZM180-400h160v-160H180v160Zm440 0h160v-160H620v160ZM180-180h160v-160H180v160Zm440 0h160v-160H620v160Z\"/>\n",
              "  </svg>\n",
              "    </button>\n",
              "\n",
              "  <style>\n",
              "    .colab-df-container {\n",
              "      display:flex;\n",
              "      gap: 12px;\n",
              "    }\n",
              "\n",
              "    .colab-df-convert {\n",
              "      background-color: #E8F0FE;\n",
              "      border: none;\n",
              "      border-radius: 50%;\n",
              "      cursor: pointer;\n",
              "      display: none;\n",
              "      fill: #1967D2;\n",
              "      height: 32px;\n",
              "      padding: 0 0 0 0;\n",
              "      width: 32px;\n",
              "    }\n",
              "\n",
              "    .colab-df-convert:hover {\n",
              "      background-color: #E2EBFA;\n",
              "      box-shadow: 0px 1px 2px rgba(60, 64, 67, 0.3), 0px 1px 3px 1px rgba(60, 64, 67, 0.15);\n",
              "      fill: #174EA6;\n",
              "    }\n",
              "\n",
              "    .colab-df-buttons div {\n",
              "      margin-bottom: 4px;\n",
              "    }\n",
              "\n",
              "    [theme=dark] .colab-df-convert {\n",
              "      background-color: #3B4455;\n",
              "      fill: #D2E3FC;\n",
              "    }\n",
              "\n",
              "    [theme=dark] .colab-df-convert:hover {\n",
              "      background-color: #434B5C;\n",
              "      box-shadow: 0px 1px 3px 1px rgba(0, 0, 0, 0.15);\n",
              "      filter: drop-shadow(0px 1px 2px rgba(0, 0, 0, 0.3));\n",
              "      fill: #FFFFFF;\n",
              "    }\n",
              "  </style>\n",
              "\n",
              "    <script>\n",
              "      const buttonEl =\n",
              "        document.querySelector('#df-87178073-4e0b-451b-84b4-08a11f1f3eda button.colab-df-convert');\n",
              "      buttonEl.style.display =\n",
              "        google.colab.kernel.accessAllowed ? 'block' : 'none';\n",
              "\n",
              "      async function convertToInteractive(key) {\n",
              "        const element = document.querySelector('#df-87178073-4e0b-451b-84b4-08a11f1f3eda');\n",
              "        const dataTable =\n",
              "          await google.colab.kernel.invokeFunction('convertToInteractive',\n",
              "                                                    [key], {});\n",
              "        if (!dataTable) return;\n",
              "\n",
              "        const docLinkHtml = 'Like what you see? Visit the ' +\n",
              "          '<a target=\"_blank\" href=https://colab.research.google.com/notebooks/data_table.ipynb>data table notebook</a>'\n",
              "          + ' to learn more about interactive tables.';\n",
              "        element.innerHTML = '';\n",
              "        dataTable['output_type'] = 'display_data';\n",
              "        await google.colab.output.renderOutput(dataTable, element);\n",
              "        const docLink = document.createElement('div');\n",
              "        docLink.innerHTML = docLinkHtml;\n",
              "        element.appendChild(docLink);\n",
              "      }\n",
              "    </script>\n",
              "  </div>\n",
              "\n",
              "\n",
              "<div id=\"df-c2d6cc28-01ff-4b77-a539-0ba7a34996a3\">\n",
              "  <button class=\"colab-df-quickchart\" onclick=\"quickchart('df-c2d6cc28-01ff-4b77-a539-0ba7a34996a3')\"\n",
              "            title=\"Suggest charts.\"\n",
              "            style=\"display:none;\">\n",
              "\n",
              "<svg xmlns=\"http://www.w3.org/2000/svg\" height=\"24px\"viewBox=\"0 0 24 24\"\n",
              "     width=\"24px\">\n",
              "    <g>\n",
              "        <path d=\"M19 3H5c-1.1 0-2 .9-2 2v14c0 1.1.9 2 2 2h14c1.1 0 2-.9 2-2V5c0-1.1-.9-2-2-2zM9 17H7v-7h2v7zm4 0h-2V7h2v10zm4 0h-2v-4h2v4z\"/>\n",
              "    </g>\n",
              "</svg>\n",
              "  </button>\n",
              "\n",
              "<style>\n",
              "  .colab-df-quickchart {\n",
              "      --bg-color: #E8F0FE;\n",
              "      --fill-color: #1967D2;\n",
              "      --hover-bg-color: #E2EBFA;\n",
              "      --hover-fill-color: #174EA6;\n",
              "      --disabled-fill-color: #AAA;\n",
              "      --disabled-bg-color: #DDD;\n",
              "  }\n",
              "\n",
              "  [theme=dark] .colab-df-quickchart {\n",
              "      --bg-color: #3B4455;\n",
              "      --fill-color: #D2E3FC;\n",
              "      --hover-bg-color: #434B5C;\n",
              "      --hover-fill-color: #FFFFFF;\n",
              "      --disabled-bg-color: #3B4455;\n",
              "      --disabled-fill-color: #666;\n",
              "  }\n",
              "\n",
              "  .colab-df-quickchart {\n",
              "    background-color: var(--bg-color);\n",
              "    border: none;\n",
              "    border-radius: 50%;\n",
              "    cursor: pointer;\n",
              "    display: none;\n",
              "    fill: var(--fill-color);\n",
              "    height: 32px;\n",
              "    padding: 0;\n",
              "    width: 32px;\n",
              "  }\n",
              "\n",
              "  .colab-df-quickchart:hover {\n",
              "    background-color: var(--hover-bg-color);\n",
              "    box-shadow: 0 1px 2px rgba(60, 64, 67, 0.3), 0 1px 3px 1px rgba(60, 64, 67, 0.15);\n",
              "    fill: var(--button-hover-fill-color);\n",
              "  }\n",
              "\n",
              "  .colab-df-quickchart-complete:disabled,\n",
              "  .colab-df-quickchart-complete:disabled:hover {\n",
              "    background-color: var(--disabled-bg-color);\n",
              "    fill: var(--disabled-fill-color);\n",
              "    box-shadow: none;\n",
              "  }\n",
              "\n",
              "  .colab-df-spinner {\n",
              "    border: 2px solid var(--fill-color);\n",
              "    border-color: transparent;\n",
              "    border-bottom-color: var(--fill-color);\n",
              "    animation:\n",
              "      spin 1s steps(1) infinite;\n",
              "  }\n",
              "\n",
              "  @keyframes spin {\n",
              "    0% {\n",
              "      border-color: transparent;\n",
              "      border-bottom-color: var(--fill-color);\n",
              "      border-left-color: var(--fill-color);\n",
              "    }\n",
              "    20% {\n",
              "      border-color: transparent;\n",
              "      border-left-color: var(--fill-color);\n",
              "      border-top-color: var(--fill-color);\n",
              "    }\n",
              "    30% {\n",
              "      border-color: transparent;\n",
              "      border-left-color: var(--fill-color);\n",
              "      border-top-color: var(--fill-color);\n",
              "      border-right-color: var(--fill-color);\n",
              "    }\n",
              "    40% {\n",
              "      border-color: transparent;\n",
              "      border-right-color: var(--fill-color);\n",
              "      border-top-color: var(--fill-color);\n",
              "    }\n",
              "    60% {\n",
              "      border-color: transparent;\n",
              "      border-right-color: var(--fill-color);\n",
              "    }\n",
              "    80% {\n",
              "      border-color: transparent;\n",
              "      border-right-color: var(--fill-color);\n",
              "      border-bottom-color: var(--fill-color);\n",
              "    }\n",
              "    90% {\n",
              "      border-color: transparent;\n",
              "      border-bottom-color: var(--fill-color);\n",
              "    }\n",
              "  }\n",
              "</style>\n",
              "\n",
              "  <script>\n",
              "    async function quickchart(key) {\n",
              "      const quickchartButtonEl =\n",
              "        document.querySelector('#' + key + ' button');\n",
              "      quickchartButtonEl.disabled = true;  // To prevent multiple clicks.\n",
              "      quickchartButtonEl.classList.add('colab-df-spinner');\n",
              "      try {\n",
              "        const charts = await google.colab.kernel.invokeFunction(\n",
              "            'suggestCharts', [key], {});\n",
              "      } catch (error) {\n",
              "        console.error('Error during call to suggestCharts:', error);\n",
              "      }\n",
              "      quickchartButtonEl.classList.remove('colab-df-spinner');\n",
              "      quickchartButtonEl.classList.add('colab-df-quickchart-complete');\n",
              "    }\n",
              "    (() => {\n",
              "      let quickchartButtonEl =\n",
              "        document.querySelector('#df-c2d6cc28-01ff-4b77-a539-0ba7a34996a3 button');\n",
              "      quickchartButtonEl.style.display =\n",
              "        google.colab.kernel.accessAllowed ? 'block' : 'none';\n",
              "    })();\n",
              "  </script>\n",
              "</div>\n",
              "    </div>\n",
              "  </div>\n"
            ]
          },
          "metadata": {},
          "execution_count": 9
        }
      ]
    },
    {
      "cell_type": "code",
      "source": [
        "indicadores.dtypes"
      ],
      "metadata": {
        "id": "R40h9dt72Hg7",
        "colab": {
          "base_uri": "https://localhost:8080/"
        },
        "outputId": "0958580b-bbb4-40db-bd40-0682848d12cf"
      },
      "execution_count": 10,
      "outputs": [
        {
          "output_type": "execute_result",
          "data": {
            "text/plain": [
              "Periodos     object\n",
              "IMCMI_SA    float64\n",
              "dtype: object"
            ]
          },
          "metadata": {},
          "execution_count": 10
        }
      ]
    },
    {
      "cell_type": "code",
      "source": [
        "indicadores.isnull().sum()"
      ],
      "metadata": {
        "id": "gad7JDhc2J0_",
        "colab": {
          "base_uri": "https://localhost:8080/"
        },
        "outputId": "4d11d40f-e39d-43f2-c75c-b74d64463a55"
      },
      "execution_count": 11,
      "outputs": [
        {
          "output_type": "execute_result",
          "data": {
            "text/plain": [
              "Periodos    0\n",
              "IMCMI_SA    0\n",
              "dtype: int64"
            ]
          },
          "metadata": {},
          "execution_count": 11
        }
      ]
    },
    {
      "cell_type": "code",
      "source": [
        "##convertir en tiempo\n",
        "indicadores['Periodos']=pd.to_datetime(indicadores['Periodos'], format='%Y/%m')"
      ],
      "metadata": {
        "id": "gBpyWU_G5n6J"
      },
      "execution_count": 12,
      "outputs": []
    },
    {
      "cell_type": "code",
      "source": [
        "indicadores = indicadores.set_index('Periodos')\n",
        "indicadores = indicadores.asfreq('MS')"
      ],
      "metadata": {
        "id": "u0xBHSt25uF8"
      },
      "execution_count": 13,
      "outputs": []
    },
    {
      "cell_type": "code",
      "source": [
        "indicadores.index"
      ],
      "metadata": {
        "id": "YUPopoUY6IIk",
        "colab": {
          "base_uri": "https://localhost:8080/"
        },
        "outputId": "9a442e00-3dbd-4a6d-c04c-45426a251fba"
      },
      "execution_count": 14,
      "outputs": [
        {
          "output_type": "execute_result",
          "data": {
            "text/plain": [
              "DatetimeIndex(['1993-01-01', '1993-02-01', '1993-03-01', '1993-04-01',\n",
              "               '1993-05-01', '1993-06-01', '1993-07-01', '1993-08-01',\n",
              "               '1993-09-01', '1993-10-01',\n",
              "               ...\n",
              "               '2022-10-01', '2022-11-01', '2022-12-01', '2023-01-01',\n",
              "               '2023-02-01', '2023-03-01', '2023-04-01', '2023-05-01',\n",
              "               '2023-06-01', '2023-07-01'],\n",
              "              dtype='datetime64[ns]', name='Periodos', length=367, freq='MS')"
            ]
          },
          "metadata": {},
          "execution_count": 14
        }
      ]
    },
    {
      "cell_type": "code",
      "source": [
        "indicadores['IMCMI_SA'].plot(figsize=(10,6))\n",
        "plt.xlabel('Periodo')\n",
        "plt.ylabel('IMCMI')\n",
        "plt.title('Indicador Mensual del Consumo Privado')\n",
        "plt.show();"
      ],
      "metadata": {
        "id": "cvmOHxZp6JNg",
        "colab": {
          "base_uri": "https://localhost:8080/",
          "height": 564
        },
        "outputId": "0b91f1ef-83c6-475d-eaff-047497c847e8"
      },
      "execution_count": 15,
      "outputs": [
        {
          "output_type": "display_data",
          "data": {
            "text/plain": [
              "<Figure size 1000x600 with 1 Axes>"
            ],
            "image/png": "[encoded data removed]"
          },
          "metadata": {}
        }
      ]
    },
    {
      "cell_type": "code",
      "source": [
        "prueba_adf=adfuller(indicadores['IMCMI_SA'])\n",
        "pvalue=prueba_adf[1]\n",
        "pvalue.round(2)"
      ],
      "metadata": {
        "id": "nF9X7Fza7niE",
        "colab": {
          "base_uri": "https://localhost:8080/"
        },
        "outputId": "07495cae-bef7-4332-850d-2967540450cb"
      },
      "execution_count": 16,
      "outputs": [
        {
          "output_type": "execute_result",
          "data": {
            "text/plain": [
              "0.8"
            ]
          },
          "metadata": {},
          "execution_count": 16
        }
      ]
    },
    {
      "cell_type": "markdown",
      "source": [
        "No rechazmos H0, significa que el IMCP es un proceso no estacionario\n",
        "\n"
      ],
      "metadata": {
        "id": "3MMBKZRK9b_K"
      }
    },
    {
      "cell_type": "code",
      "source": [
        "#1eras diferencias\n",
        "\n",
        "indicadores['indicadores_diff']=indicadores['IMCMI_SA'].diff()"
      ],
      "metadata": {
        "id": "QXENcyXW9i18"
      },
      "execution_count": 17,
      "outputs": []
    },
    {
      "cell_type": "code",
      "source": [
        "indicadores['indicadores_diff'].plot()"
      ],
      "metadata": {
        "id": "r6et30zH-iKw",
        "colab": {
          "base_uri": "https://localhost:8080/",
          "height": 467
        },
        "outputId": "dce913c8-0130-4d78-9c15-e04ebe408c2f"
      },
      "execution_count": 18,
      "outputs": [
        {
          "output_type": "execute_result",
          "data": {
            "text/plain": [
              "<Axes: xlabel='Periodos'>"
            ]
          },
          "metadata": {},
          "execution_count": 18
        },
        {
          "output_type": "display_data",
          "data": {
            "text/plain": [
              "<Figure size 640x480 with 1 Axes>"
            ],
            "image/png": "[encoded data removed]"
          },
          "metadata": {}
        }
      ]
    },
    {
      "cell_type": "code",
      "source": [
        "prueba_adf1=adfuller(indicadores['indicadores_diff'].dropna())\n",
        "pvalue1=prueba_adf1[1]\n",
        "pvalue1.round(2)"
      ],
      "metadata": {
        "id": "yv1B2RD8-mPm",
        "colab": {
          "base_uri": "https://localhost:8080/"
        },
        "outputId": "1a7b5492-4cd9-44ae-888c-d4c08cfe31a6"
      },
      "execution_count": 19,
      "outputs": [
        {
          "output_type": "execute_result",
          "data": {
            "text/plain": [
              "0.0"
            ]
          },
          "metadata": {},
          "execution_count": 19
        }
      ]
    },
    {
      "cell_type": "markdown",
      "source": [
        "Rechazamos H0, las primeras diferencias son un proceso estacionario"
      ],
      "metadata": {
        "id": "WTCzvzyd_eTv"
      }
    },
    {
      "cell_type": "code",
      "source": [
        "#que proceso estacionario es? verificamos con una grafica\n",
        "\n",
        "ig, ax=plt.subplots(1,2, figsize=(10,4))\n",
        "\n",
        "#1er\n",
        "plot_acf(indicadores['indicadores_diff'].dropna(),zero=False, lags=40, ax=ax[0])\n",
        "\n",
        "#2do\n",
        "plot_pacf(indicadores['indicadores_diff'].dropna(),zero=False, lags=40, ax=ax[1])\n",
        "plt.show()\n",
        "\n",
        "#nos ayudan para observar si la serie tiene un componente estacional - subidas o caidas que repiten de la misma frecuencia"
      ],
      "metadata": {
        "id": "9d8l3QKG_e2x",
        "colab": {
          "base_uri": "https://localhost:8080/",
          "height": 391
        },
        "outputId": "92f66142-d47d-461a-a970-ca9ddca6def4"
      },
      "execution_count": 20,
      "outputs": [
        {
          "output_type": "display_data",
          "data": {
            "text/plain": [
              "<Figure size 1000x400 with 2 Axes>"
            ],
            "image/png": "[encoded data removed]"
          },
          "metadata": {}
        }
      ]
    },
    {
      "cell_type": "markdown",
      "source": [
        "EL IMCP es una serie sin componente estacional."
      ],
      "metadata": {
        "id": "qyCQ-p45DtOP"
      }
    },
    {
      "cell_type": "code",
      "source": [
        "## determinar el orden del proceso\n",
        "arimaorder_aic=pm.auto_arima(indicadores['IMCMI_SA'],\n",
        "                start_p=1,start_q=1,\n",
        "                max_p=7, max_q=7,\n",
        "                information_criterion='aic'\n",
        "                )\n",
        "arimaorder_aic.params"
      ],
      "metadata": {
        "id": "3hzqbRViVTuG",
        "colab": {
          "base_uri": "https://localhost:8080/"
        },
        "outputId": "610c2d1a-16ed-441d-cb56-f0cceab39150"
      },
      "execution_count": 21,
      "outputs": [
        {
          "output_type": "execute_result",
          "data": {
            "text/plain": [
              "<bound method ARIMA.params of ARIMA(order=(0, 1, 1), scoring_args={}, suppress_warnings=True)>"
            ]
          },
          "metadata": {},
          "execution_count": 21
        }
      ]
    },
    {
      "cell_type": "code",
      "source": [
        "help(pm.auto_arima)"
      ],
      "metadata": {
        "id": "2edd4u5KWszz",
        "colab": {
          "base_uri": "https://localhost:8080/"
        },
        "outputId": "60cdb25b-4de9-423b-df38-72c698728422"
      },
      "execution_count": 22,
      "outputs": [
        {
          "output_type": "stream",
          "name": "stdout",
          "text": [
            "Help on function auto_arima in module pmdarima.arima.auto:\n",
            "\n",
            "auto_arima(y, X=None, start_p=2, d=None, start_q=2, max_p=5, max_d=2, max_q=5, start_P=1, D=None, start_Q=1, max_P=2, max_D=1, max_Q=2, max_order=5, m=1, seasonal=True, stationary=False, information_criterion='aic', alpha=0.05, test='kpss', seasonal_test='ocsb', stepwise=True, n_jobs=1, start_params=None, trend=None, method='lbfgs', maxiter=50, offset_test_args=None, seasonal_test_args=None, suppress_warnings=True, error_action='trace', trace=False, random=False, random_state=None, n_fits=10, return_valid_fits=False, out_of_sample_size=0, scoring='mse', scoring_args=None, with_intercept='auto', sarimax_kwargs=None, **fit_args)\n",
            "    Automatically discover the optimal order for an ARIMA model.\n",
            "    \n",
            "    The auto-ARIMA process seeks to identify the most optimal\n",
            "    parameters for an ``ARIMA`` model, settling on a single fitted ARIMA model.\n",
            "    This process is based on the commonly-used R function,\n",
            "    ``forecast::auto.arima`` [3].\n",
            "    \n",
            "    Auto-ARIMA works by conducting differencing tests (i.e.,\n",
            "    Kwiatkowski–Phillips–Schmidt–Shin, Augmented Dickey-Fuller or\n",
            "    Phillips–Perron) to determine the order of differencing, ``d``, and then\n",
            "    fitting models within ranges of defined ``start_p``, ``max_p``,\n",
            "    ``start_q``, ``max_q`` ranges. If the ``seasonal`` optional is enabled,\n",
            "    auto-ARIMA also seeks to identify the optimal ``P`` and ``Q`` hyper-\n",
            "    parameters after conducting the Canova-Hansen to determine the optimal\n",
            "    order of seasonal differencing, ``D``.\n",
            "    \n",
            "    In order to find the best model, auto-ARIMA optimizes for a given\n",
            "    ``information_criterion``, one of ('aic', 'aicc', 'bic', 'hqic', 'oob')\n",
            "    (Akaike Information Criterion, Corrected Akaike Information Criterion,\n",
            "    Bayesian Information Criterion, Hannan-Quinn Information Criterion, or\n",
            "    \"out of bag\"--for validation scoring--respectively) and returns the ARIMA\n",
            "    which minimizes the value.\n",
            "    \n",
            "    Note that due to stationarity issues, auto-ARIMA might not find a\n",
            "    suitable model that will converge. If this is the case, a ``ValueError``\n",
            "    will be thrown suggesting stationarity-inducing measures be taken prior\n",
            "    to re-fitting or that a new range of ``order`` values be selected. Non-\n",
            "    stepwise (i.e., essentially a grid search) selection can be slow,\n",
            "    especially for seasonal data. Stepwise algorithm is outlined in Hyndman and\n",
            "    Khandakar (2008).\n",
            "    \n",
            "    Parameters\n",
            "    ----------\n",
            "    y : array-like or iterable, shape=(n_samples,)\n",
            "        The time-series to which to fit the ``ARIMA`` estimator. This may\n",
            "        either be a Pandas ``Series`` object (statsmodels can internally\n",
            "        use the dates in the index), or a numpy array. This should be a\n",
            "        one-dimensional array of floats, and should not contain any\n",
            "        ``np.nan`` or ``np.inf`` values.\n",
            "    \n",
            "    X : array-like, shape=[n_obs, n_vars], optional (default=None)\n",
            "        An optional 2-d array of exogenous variables. If provided, these\n",
            "        variables are used as additional features in the regression\n",
            "        operation. This should not include a constant or trend. Note that\n",
            "        if an ``ARIMA`` is fit on exogenous features, it must be provided\n",
            "        exogenous features for making predictions.\n",
            "    \n",
            "    start_p : int, optional (default=2)\n",
            "        The starting value of ``p``, the order (or number of time lags)\n",
            "        of the auto-regressive (\"AR\") model. Must be a positive integer.\n",
            "    \n",
            "    d : int, optional (default=None)\n",
            "        The order of first-differencing. If None (by default), the value\n",
            "        will automatically be selected based on the results of the ``test``\n",
            "        (i.e., either the Kwiatkowski–Phillips–Schmidt–Shin, Augmented\n",
            "        Dickey-Fuller or the Phillips–Perron test will be conducted to find\n",
            "        the most probable value). Must be a positive integer or None. Note\n",
            "        that if ``d`` is None, the runtime could be significantly longer.\n",
            "    \n",
            "    start_q : int, optional (default=2)\n",
            "        The starting value of ``q``, the order of the moving-average\n",
            "        (\"MA\") model. Must be a positive integer.\n",
            "    \n",
            "    max_p : int, optional (default=5)\n",
            "        The maximum value of ``p``, inclusive. Must be a positive integer\n",
            "        greater than or equal to ``start_p``.\n",
            "    \n",
            "    max_d : int, optional (default=2)\n",
            "        The maximum value of ``d``, or the maximum number of non-seasonal\n",
            "        differences. Must be a positive integer greater than or equal to ``d``.\n",
            "    \n",
            "    max_q : int, optional (default=5)\n",
            "        The maximum value of ``q``, inclusive. Must be a positive integer\n",
            "        greater than ``start_q``.\n",
            "    \n",
            "    start_P : int, optional (default=1)\n",
            "        The starting value of ``P``, the order of the auto-regressive portion\n",
            "        of the seasonal model.\n",
            "    \n",
            "    D : int, optional (default=None)\n",
            "        The order of the seasonal differencing. If None (by default, the value\n",
            "        will automatically be selected based on the results of the\n",
            "        ``seasonal_test``. Must be a positive integer or None.\n",
            "    \n",
            "    start_Q : int, optional (default=1)\n",
            "        The starting value of ``Q``, the order of the moving-average portion\n",
            "        of the seasonal model.\n",
            "    \n",
            "    max_P : int, optional (default=2)\n",
            "        The maximum value of ``P``, inclusive. Must be a positive integer\n",
            "        greater than ``start_P``.\n",
            "    \n",
            "    max_D : int, optional (default=1)\n",
            "        The maximum value of ``D``. Must be a positive integer greater\n",
            "        than ``D``.\n",
            "    \n",
            "    max_Q : int, optional (default=2)\n",
            "        The maximum value of ``Q``, inclusive. Must be a positive integer\n",
            "        greater than ``start_Q``.\n",
            "    \n",
            "    max_order : int, optional (default=5)\n",
            "        Maximum value of p+q+P+Q if model selection is not stepwise.\n",
            "        If the sum of ``p`` and ``q`` is >= ``max_order``, a model will\n",
            "        *not* be fit with those parameters, but will progress to the next\n",
            "        combination. Default is 5. If ``max_order`` is None, it means there\n",
            "        are no constraints on maximum order.\n",
            "    \n",
            "    m : int, optional (default=1)\n",
            "        The period for seasonal differencing, ``m`` refers to the number of\n",
            "        periods in each season. For example, ``m`` is 4 for quarterly data, 12\n",
            "        for monthly data, or 1 for annual (non-seasonal) data. Default is 1.\n",
            "        Note that if ``m`` == 1 (i.e., is non-seasonal), ``seasonal`` will be\n",
            "        set to False. For more information on setting this parameter, see\n",
            "        :ref:`period`.\n",
            "    \n",
            "    seasonal : bool, optional (default=True)\n",
            "        Whether to fit a seasonal ARIMA. Default is True. Note that if\n",
            "        ``seasonal`` is True and ``m`` == 1, ``seasonal`` will be set to False.\n",
            "    \n",
            "    stationary : bool, optional (default=False)\n",
            "        Whether the time-series is stationary and ``d`` should be set to zero.\n",
            "    \n",
            "    information_criterion : str, optional (default='aic')\n",
            "        The information criterion used to select the best ARIMA model. One of\n",
            "        ``pmdarima.arima.auto_arima.VALID_CRITERIA``, ('aic', 'bic', 'hqic',\n",
            "        'oob').\n",
            "    \n",
            "    alpha : float, optional (default=0.05)\n",
            "        Level of the test for testing significance.\n",
            "    \n",
            "    test : str, optional (default='kpss')\n",
            "        Type of unit root test to use in order to detect stationarity if\n",
            "        ``stationary`` is False and ``d`` is None. Default is 'kpss'\n",
            "        (Kwiatkowski–Phillips–Schmidt–Shin).\n",
            "    \n",
            "    seasonal_test : str, optional (default='ocsb')\n",
            "        This determines which seasonal unit root test is used if ``seasonal``\n",
            "        is True and ``D`` is None. Default is 'OCSB'.\n",
            "    \n",
            "    stepwise : bool, optional (default=True)\n",
            "        Whether to use the stepwise algorithm outlined in Hyndman and Khandakar\n",
            "        (2008) to identify the optimal model parameters. The stepwise algorithm\n",
            "        can be significantly faster than fitting all (or a ``random`` subset\n",
            "        of) hyper-parameter combinations and is less likely to over-fit\n",
            "        the model.\n",
            "    \n",
            "    n_jobs : int, optional (default=1)\n",
            "        The number of models to fit in parallel in the case of a grid search\n",
            "        (``stepwise=False``). Default is 1, but -1 can be used to designate\n",
            "        \"as many as possible\".\n",
            "    \n",
            "    start_params : array-like, optional (default=None)\n",
            "        Starting parameters for ``ARMA(p,q)``.  If None, the default is given\n",
            "        by ``ARMA._fit_start_params``.\n",
            "    \n",
            "    method : str, optional (default='lbfgs')\n",
            "        The ``method`` determines which solver from ``scipy.optimize``\n",
            "        is used, and it can be chosen from among the following strings:\n",
            "    \n",
            "        - 'newton' for Newton-Raphson\n",
            "        - 'nm' for Nelder-Mead\n",
            "        - 'bfgs' for Broyden-Fletcher-Goldfarb-Shanno (BFGS)\n",
            "        - 'lbfgs' for limited-memory BFGS with optional box constraints\n",
            "        - 'powell' for modified Powell's method\n",
            "        - 'cg' for conjugate gradient\n",
            "        - 'ncg' for Newton-conjugate gradient\n",
            "        - 'basinhopping' for global basin-hopping solver\n",
            "    \n",
            "        The explicit arguments in ``fit`` are passed to the solver,\n",
            "        with the exception of the basin-hopping solver. Each\n",
            "        solver has several optional arguments that are not the same across\n",
            "        solvers. These can be passed as **fit_kwargs\n",
            "    \n",
            "    trend : str or None, optional (default=None)\n",
            "        The trend parameter. If ``with_intercept`` is True, ``trend`` will be\n",
            "        used. If ``with_intercept`` is False, the trend will be set to a no-\n",
            "        intercept value.\n",
            "    \n",
            "    maxiter : int, optional (default=50)\n",
            "        The maximum number of function evaluations. Default is 50.\n",
            "    \n",
            "    offset_test_args : dict, optional (default=None)\n",
            "        The args to pass to the constructor of the offset (``d``) test. See\n",
            "        ``pmdarima.arima.stationarity`` for more details.\n",
            "    \n",
            "    seasonal_test_args : dict, optional (default=None)\n",
            "        The args to pass to the constructor of the seasonal offset (``D``)\n",
            "        test. See ``pmdarima.arima.seasonality`` for more details. Examples of\n",
            "        valid kwargs will vary based on the test. For the ``OCSBTest``\n",
            "        (default) they include:\n",
            "        \n",
            "        - 'lag_method'\n",
            "        - 'max_lag'\n",
            "    \n",
            "    suppress_warnings : bool, optional (default=True)\n",
            "        Many warnings might be thrown inside of statsmodels. If\n",
            "        ``suppress_warnings`` is True, all of the warnings coming from\n",
            "        ``ARIMA`` will be squelched. Note that this will not suppress\n",
            "        UserWarnings created by bad argument combinations.\n",
            "    \n",
            "    error_action : str, optional (default='warn')\n",
            "        If unable to fit an ``ARIMA`` for whatever reason, this controls the\n",
            "        error-handling behavior. Model fits can fail for linear algebra errors,\n",
            "        convergence errors, or any number of problems related to stationarity\n",
            "        or input data.\n",
            "            - 'warn': Warns when an error is encountered (default)\n",
            "            - 'raise': Raises when an error is encountered\n",
            "            - 'ignore': Ignores errors (not recommended)\n",
            "            - 'trace': Logs the entire error stacktrace and continues the\n",
            "               search. This is the best option when trying to determine why a\n",
            "               model is failing.\n",
            "    \n",
            "    trace : bool or int, optional (default=False)\n",
            "        Whether to print status on the fits. A value of False will print no\n",
            "        debugging information. A value of True will print some. Integer values\n",
            "        exceeding 1 will print increasing amounts of debug information at each\n",
            "        fit.\n",
            "    \n",
            "    random : bool, optional (default=False)\n",
            "        Similar to grid searches, ``auto_arima`` provides the capability to\n",
            "        perform a \"random search\" over a hyper-parameter space. If ``random``\n",
            "        is True, rather than perform an exhaustive search or ``stepwise``\n",
            "        search, only ``n_fits`` ARIMA models will be fit (``stepwise`` must be\n",
            "        False for this option to do anything).\n",
            "    \n",
            "    random_state : int, long or numpy ``RandomState``, optional (default=None)\n",
            "        The PRNG for when ``random=True``. Ensures replicable testing and\n",
            "        results.\n",
            "    \n",
            "    n_fits : int, optional (default=10)\n",
            "        If ``random`` is True and a \"random search\" is going to be performed,\n",
            "        ``n_fits`` is the number of ARIMA models to be fit.\n",
            "    \n",
            "    return_valid_fits : bool, optional (default=False)\n",
            "        If True, will return all valid ARIMA fits in a list. If False (by\n",
            "        default), will only return the best fit.\n",
            "    \n",
            "    out_of_sample_size : int, optional (default=0)\n",
            "        The ``ARIMA`` class can fit only a portion of the data if specified,\n",
            "        in order to retain an \"out of bag\" sample score. This is the\n",
            "        number of examples from the tail of the time series to hold out\n",
            "        and use as validation examples. The model will not be fit on these\n",
            "        samples, but the observations will be added into the model's ``endog``\n",
            "        and ``exog`` arrays so that future forecast values originate from the\n",
            "        end of the endogenous vector.\n",
            "    \n",
            "        For instance::\n",
            "    \n",
            "            y = [0, 1, 2, 3, 4, 5, 6]\n",
            "            out_of_sample_size = 2\n",
            "    \n",
            "            > Fit on: [0, 1, 2, 3, 4]\n",
            "            > Score on: [5, 6]\n",
            "            > Append [5, 6] to end of self.arima_res_.data.endog values\n",
            "    \n",
            "    scoring : str, optional (default='mse')\n",
            "        If performing validation (i.e., if ``out_of_sample_size`` > 0), the\n",
            "        metric to use for scoring the out-of-sample data. One of ('mse', 'mae')\n",
            "    \n",
            "    scoring_args : dict, optional (default=None)\n",
            "        A dictionary of key-word arguments to be passed to the ``scoring``\n",
            "        metric.\n",
            "    \n",
            "    with_intercept : bool or str, optional (default=\"auto\")\n",
            "        Whether to include an intercept term. Default is \"auto\" which behaves\n",
            "        like True until a point in the search where the sum of differencing\n",
            "        terms will explicitly set it to True or False.\n",
            "    \n",
            "    \n",
            "    sarimax_kwargs : dict or None, optional (default=None)\n",
            "        Keyword arguments to pass to the ARIMA constructor.\n",
            "    \n",
            "    \n",
            "    **fit_args : dict, optional (default=None)\n",
            "        A dictionary of keyword arguments to pass to the :func:`ARIMA.fit`\n",
            "        method.\n",
            "    \n",
            "    See Also\n",
            "    --------\n",
            "    :func:`pmdarima.arima.ARIMA`\n",
            "    \n",
            "    Notes\n",
            "    -----\n",
            "    * Fitting with `stepwise=False` can prove slower, especially when\n",
            "      `seasonal=True`.\n",
            "    \n",
            "    References\n",
            "    ----------\n",
            "    .. [1] https://wikipedia.org/wiki/Autoregressive_integrated_moving_average\n",
            "    .. [2] R's auto-arima source code: https://github.com/robjhyndman/forecast/blob/master/R/arima.R\n",
            "    .. [3] R's auto-arima documentation: https://www.rdocumentation.org/packages/forecast\n",
            "\n"
          ]
        }
      ]
    },
    {
      "cell_type": "code",
      "source": [
        "# vamos a estimar varios modelos y que se guarde el AIC BIC\n",
        "ic = {}\n",
        "for ar in range(7):\n",
        "    for ma in range(7):\n",
        "        print(f\"AR: {ar}, MA: {ma}\")\n",
        "        modelo = ARIMA(indicadores['IMCMI_SA'], order=(ar, 1, ma))\n",
        "        resultado = modelo.fit()\n",
        "        ic[(ar, ma)] = [resultado.aic, resultado.bic]\n",
        "\n",
        "ic = pd.DataFrame(ic, index=[\"AIC\", \"BIC\"]).T\n",
        "ic.index = ic.index.set_names([\"AR\", \"MA\"])"
      ],
      "metadata": {
        "id": "zIcz5WQKWtBP",
        "colab": {
          "base_uri": "https://localhost:8080/"
        },
        "outputId": "e4469634-03ff-4b30-ae65-c8736d4594d0"
      },
      "execution_count": 23,
      "outputs": [
        {
          "output_type": "stream",
          "name": "stdout",
          "text": [
            "AR: 0, MA: 0\n",
            "AR: 0, MA: 1\n",
            "AR: 0, MA: 2\n",
            "AR: 0, MA: 3\n",
            "AR: 0, MA: 4\n",
            "AR: 0, MA: 5\n",
            "AR: 0, MA: 6\n",
            "AR: 1, MA: 0\n",
            "AR: 1, MA: 1\n",
            "AR: 1, MA: 2\n",
            "AR: 1, MA: 3\n",
            "AR: 1, MA: 4\n",
            "AR: 1, MA: 5\n",
            "AR: 1, MA: 6\n",
            "AR: 2, MA: 0\n",
            "AR: 2, MA: 1\n",
            "AR: 2, MA: 2\n",
            "AR: 2, MA: 3\n",
            "AR: 2, MA: 4\n",
            "AR: 2, MA: 5\n",
            "AR: 2, MA: 6\n",
            "AR: 3, MA: 0\n",
            "AR: 3, MA: 1\n",
            "AR: 3, MA: 2\n"
          ]
        },
        {
          "output_type": "stream",
          "name": "stderr",
          "text": [
            "/usr/local/lib/python3.10/dist-packages/statsmodels/tsa/statespace/sarimax.py:966: UserWarning: Non-stationary starting autoregressive parameters found. Using zeros as starting parameters.\n",
            "  warn('Non-stationary starting autoregressive parameters'\n",
            "/usr/local/lib/python3.10/dist-packages/statsmodels/tsa/statespace/sarimax.py:978: UserWarning: Non-invertible starting MA parameters found. Using zeros as starting parameters.\n",
            "  warn('Non-invertible starting MA parameters found.'\n"
          ]
        },
        {
          "output_type": "stream",
          "name": "stdout",
          "text": [
            "AR: 3, MA: 3\n",
            "AR: 3, MA: 4\n"
          ]
        },
        {
          "output_type": "stream",
          "name": "stderr",
          "text": [
            "/usr/local/lib/python3.10/dist-packages/statsmodels/base/model.py:607: ConvergenceWarning: Maximum Likelihood optimization failed to converge. Check mle_retvals\n",
            "  warnings.warn(\"Maximum Likelihood optimization failed to \"\n"
          ]
        },
        {
          "output_type": "stream",
          "name": "stdout",
          "text": [
            "AR: 3, MA: 5\n",
            "AR: 3, MA: 6\n"
          ]
        },
        {
          "output_type": "stream",
          "name": "stderr",
          "text": [
            "/usr/local/lib/python3.10/dist-packages/statsmodels/tsa/statespace/sarimax.py:966: UserWarning: Non-stationary starting autoregressive parameters found. Using zeros as starting parameters.\n",
            "  warn('Non-stationary starting autoregressive parameters'\n",
            "/usr/local/lib/python3.10/dist-packages/statsmodels/tsa/statespace/sarimax.py:978: UserWarning: Non-invertible starting MA parameters found. Using zeros as starting parameters.\n",
            "  warn('Non-invertible starting MA parameters found.'\n"
          ]
        },
        {
          "output_type": "stream",
          "name": "stdout",
          "text": [
            "AR: 4, MA: 0\n",
            "AR: 4, MA: 1\n",
            "AR: 4, MA: 2\n"
          ]
        },
        {
          "output_type": "stream",
          "name": "stderr",
          "text": [
            "/usr/local/lib/python3.10/dist-packages/statsmodels/tsa/statespace/sarimax.py:966: UserWarning: Non-stationary starting autoregressive parameters found. Using zeros as starting parameters.\n",
            "  warn('Non-stationary starting autoregressive parameters'\n",
            "/usr/local/lib/python3.10/dist-packages/statsmodels/tsa/statespace/sarimax.py:978: UserWarning: Non-invertible starting MA parameters found. Using zeros as starting parameters.\n",
            "  warn('Non-invertible starting MA parameters found.'\n",
            "/usr/local/lib/python3.10/dist-packages/statsmodels/base/model.py:607: ConvergenceWarning: Maximum Likelihood optimization failed to converge. Check mle_retvals\n",
            "  warnings.warn(\"Maximum Likelihood optimization failed to \"\n"
          ]
        },
        {
          "output_type": "stream",
          "name": "stdout",
          "text": [
            "AR: 4, MA: 3\n"
          ]
        },
        {
          "output_type": "stream",
          "name": "stderr",
          "text": [
            "/usr/local/lib/python3.10/dist-packages/statsmodels/base/model.py:607: ConvergenceWarning: Maximum Likelihood optimization failed to converge. Check mle_retvals\n",
            "  warnings.warn(\"Maximum Likelihood optimization failed to \"\n"
          ]
        },
        {
          "output_type": "stream",
          "name": "stdout",
          "text": [
            "AR: 4, MA: 4\n",
            "AR: 4, MA: 5\n"
          ]
        },
        {
          "output_type": "stream",
          "name": "stderr",
          "text": [
            "/usr/local/lib/python3.10/dist-packages/statsmodels/tsa/statespace/sarimax.py:966: UserWarning: Non-stationary starting autoregressive parameters found. Using zeros as starting parameters.\n",
            "  warn('Non-stationary starting autoregressive parameters'\n",
            "/usr/local/lib/python3.10/dist-packages/statsmodels/tsa/statespace/sarimax.py:978: UserWarning: Non-invertible starting MA parameters found. Using zeros as starting parameters.\n",
            "  warn('Non-invertible starting MA parameters found.'\n",
            "/usr/local/lib/python3.10/dist-packages/statsmodels/base/model.py:607: ConvergenceWarning: Maximum Likelihood optimization failed to converge. Check mle_retvals\n",
            "  warnings.warn(\"Maximum Likelihood optimization failed to \"\n"
          ]
        },
        {
          "output_type": "stream",
          "name": "stdout",
          "text": [
            "AR: 4, MA: 6\n"
          ]
        },
        {
          "output_type": "stream",
          "name": "stderr",
          "text": [
            "/usr/local/lib/python3.10/dist-packages/statsmodels/tsa/statespace/sarimax.py:966: UserWarning: Non-stationary starting autoregressive parameters found. Using zeros as starting parameters.\n",
            "  warn('Non-stationary starting autoregressive parameters'\n",
            "/usr/local/lib/python3.10/dist-packages/statsmodels/tsa/statespace/sarimax.py:978: UserWarning: Non-invertible starting MA parameters found. Using zeros as starting parameters.\n",
            "  warn('Non-invertible starting MA parameters found.'\n",
            "/usr/local/lib/python3.10/dist-packages/statsmodels/base/model.py:607: ConvergenceWarning: Maximum Likelihood optimization failed to converge. Check mle_retvals\n",
            "  warnings.warn(\"Maximum Likelihood optimization failed to \"\n"
          ]
        },
        {
          "output_type": "stream",
          "name": "stdout",
          "text": [
            "AR: 5, MA: 0\n",
            "AR: 5, MA: 1\n",
            "AR: 5, MA: 2\n",
            "AR: 5, MA: 3\n",
            "AR: 5, MA: 4\n"
          ]
        },
        {
          "output_type": "stream",
          "name": "stderr",
          "text": [
            "/usr/local/lib/python3.10/dist-packages/statsmodels/base/model.py:607: ConvergenceWarning: Maximum Likelihood optimization failed to converge. Check mle_retvals\n",
            "  warnings.warn(\"Maximum Likelihood optimization failed to \"\n",
            "/usr/local/lib/python3.10/dist-packages/statsmodels/tsa/statespace/sarimax.py:966: UserWarning: Non-stationary starting autoregressive parameters found. Using zeros as starting parameters.\n",
            "  warn('Non-stationary starting autoregressive parameters'\n",
            "/usr/local/lib/python3.10/dist-packages/statsmodels/tsa/statespace/sarimax.py:978: UserWarning: Non-invertible starting MA parameters found. Using zeros as starting parameters.\n",
            "  warn('Non-invertible starting MA parameters found.'\n"
          ]
        },
        {
          "output_type": "stream",
          "name": "stdout",
          "text": [
            "AR: 5, MA: 5\n"
          ]
        },
        {
          "output_type": "stream",
          "name": "stderr",
          "text": [
            "/usr/local/lib/python3.10/dist-packages/statsmodels/base/model.py:607: ConvergenceWarning: Maximum Likelihood optimization failed to converge. Check mle_retvals\n",
            "  warnings.warn(\"Maximum Likelihood optimization failed to \"\n",
            "/usr/local/lib/python3.10/dist-packages/statsmodels/tsa/statespace/sarimax.py:966: UserWarning: Non-stationary starting autoregressive parameters found. Using zeros as starting parameters.\n",
            "  warn('Non-stationary starting autoregressive parameters'\n",
            "/usr/local/lib/python3.10/dist-packages/statsmodels/tsa/statespace/sarimax.py:978: UserWarning: Non-invertible starting MA parameters found. Using zeros as starting parameters.\n",
            "  warn('Non-invertible starting MA parameters found.'\n"
          ]
        },
        {
          "output_type": "stream",
          "name": "stdout",
          "text": [
            "AR: 5, MA: 6\n"
          ]
        },
        {
          "output_type": "stream",
          "name": "stderr",
          "text": [
            "/usr/local/lib/python3.10/dist-packages/statsmodels/base/model.py:607: ConvergenceWarning: Maximum Likelihood optimization failed to converge. Check mle_retvals\n",
            "  warnings.warn(\"Maximum Likelihood optimization failed to \"\n"
          ]
        },
        {
          "output_type": "stream",
          "name": "stdout",
          "text": [
            "AR: 6, MA: 0\n",
            "AR: 6, MA: 1\n",
            "AR: 6, MA: 2\n",
            "AR: 6, MA: 3\n"
          ]
        },
        {
          "output_type": "stream",
          "name": "stderr",
          "text": [
            "/usr/local/lib/python3.10/dist-packages/statsmodels/tsa/statespace/sarimax.py:966: UserWarning: Non-stationary starting autoregressive parameters found. Using zeros as starting parameters.\n",
            "  warn('Non-stationary starting autoregressive parameters'\n",
            "/usr/local/lib/python3.10/dist-packages/statsmodels/tsa/statespace/sarimax.py:978: UserWarning: Non-invertible starting MA parameters found. Using zeros as starting parameters.\n",
            "  warn('Non-invertible starting MA parameters found.'\n"
          ]
        },
        {
          "output_type": "stream",
          "name": "stdout",
          "text": [
            "AR: 6, MA: 4\n"
          ]
        },
        {
          "output_type": "stream",
          "name": "stderr",
          "text": [
            "/usr/local/lib/python3.10/dist-packages/statsmodels/base/model.py:607: ConvergenceWarning: Maximum Likelihood optimization failed to converge. Check mle_retvals\n",
            "  warnings.warn(\"Maximum Likelihood optimization failed to \"\n",
            "/usr/local/lib/python3.10/dist-packages/statsmodels/tsa/statespace/sarimax.py:966: UserWarning: Non-stationary starting autoregressive parameters found. Using zeros as starting parameters.\n",
            "  warn('Non-stationary starting autoregressive parameters'\n",
            "/usr/local/lib/python3.10/dist-packages/statsmodels/tsa/statespace/sarimax.py:978: UserWarning: Non-invertible starting MA parameters found. Using zeros as starting parameters.\n",
            "  warn('Non-invertible starting MA parameters found.'\n"
          ]
        },
        {
          "output_type": "stream",
          "name": "stdout",
          "text": [
            "AR: 6, MA: 5\n"
          ]
        },
        {
          "output_type": "stream",
          "name": "stderr",
          "text": [
            "/usr/local/lib/python3.10/dist-packages/statsmodels/base/model.py:607: ConvergenceWarning: Maximum Likelihood optimization failed to converge. Check mle_retvals\n",
            "  warnings.warn(\"Maximum Likelihood optimization failed to \"\n"
          ]
        },
        {
          "output_type": "stream",
          "name": "stdout",
          "text": [
            "AR: 6, MA: 6\n"
          ]
        },
        {
          "output_type": "stream",
          "name": "stderr",
          "text": [
            "/usr/local/lib/python3.10/dist-packages/statsmodels/base/model.py:607: ConvergenceWarning: Maximum Likelihood optimization failed to converge. Check mle_retvals\n",
            "  warnings.warn(\"Maximum Likelihood optimization failed to \"\n"
          ]
        }
      ]
    },
    {
      "cell_type": "code",
      "source": [
        "ic.sort_values('AIC').head()"
      ],
      "metadata": {
        "id": "lBpKDiKtYZJC",
        "colab": {
          "base_uri": "https://localhost:8080/",
          "height": 237
        },
        "outputId": "19865b56-1f4b-458e-ef9c-6bea3372a15a"
      },
      "execution_count": 24,
      "outputs": [
        {
          "output_type": "execute_result",
          "data": {
            "text/plain": [
              "               AIC          BIC\n",
              "AR MA                          \n",
              "4  2   1186.764636  1214.083070\n",
              "3  4   1190.380538  1221.601605\n",
              "0  3   1192.586260  1208.196793\n",
              "1  3   1193.760220  1213.273387\n",
              "2  0   1194.232781  1205.940681"
            ],
            "text/html": [
              "\n",
              "  <div id=\"df-be4380f7-ff63-4bfe-b3bb-f6fa7621c00c\" class=\"colab-df-container\">\n",
              "    <div>\n",
              "<style scoped>\n",
              "    .dataframe tbody tr th:only-of-type {\n",
              "        vertical-align: middle;\n",
              "    }\n",
              "\n",
              "    .dataframe tbody tr th {\n",
              "        vertical-align: top;\n",
              "    }\n",
              "\n",
              "    .dataframe thead th {\n",
              "        text-align: right;\n",
              "    }\n",
              "</style>\n",
              "<table border=\"1\" class=\"dataframe\">\n",
              "  <thead>\n",
              "    <tr style=\"text-align: right;\">\n",
              "      <th></th>\n",
              "      <th></th>\n",
              "      <th>AIC</th>\n",
              "      <th>BIC</th>\n",
              "    </tr>\n",
              "    <tr>\n",
              "      <th>AR</th>\n",
              "      <th>MA</th>\n",
              "      <th></th>\n",
              "      <th></th>\n",
              "    </tr>\n",
              "  </thead>\n",
              "  <tbody>\n",
              "    <tr>\n",
              "      <th>4</th>\n",
              "      <th>2</th>\n",
              "      <td>1186.764636</td>\n",
              "      <td>1214.083070</td>\n",
              "    </tr>\n",
              "    <tr>\n",
              "      <th>3</th>\n",
              "      <th>4</th>\n",
              "      <td>1190.380538</td>\n",
              "      <td>1221.601605</td>\n",
              "    </tr>\n",
              "    <tr>\n",
              "      <th>0</th>\n",
              "      <th>3</th>\n",
              "      <td>1192.586260</td>\n",
              "      <td>1208.196793</td>\n",
              "    </tr>\n",
              "    <tr>\n",
              "      <th>1</th>\n",
              "      <th>3</th>\n",
              "      <td>1193.760220</td>\n",
              "      <td>1213.273387</td>\n",
              "    </tr>\n",
              "    <tr>\n",
              "      <th>2</th>\n",
              "      <th>0</th>\n",
              "      <td>1194.232781</td>\n",
              "      <td>1205.940681</td>\n",
              "    </tr>\n",
              "  </tbody>\n",
              "</table>\n",
              "</div>\n",
              "    <div class=\"colab-df-buttons\">\n",
              "\n",
              "  <div class=\"colab-df-container\">\n",
              "    <button class=\"colab-df-convert\" onclick=\"convertToInteractive('df-be4380f7-ff63-4bfe-b3bb-f6fa7621c00c')\"\n",
              "            title=\"Convert this dataframe to an interactive table.\"\n",
              "            style=\"display:none;\">\n",
              "\n",
              "  <svg xmlns=\"http://www.w3.org/2000/svg\" height=\"24px\" viewBox=\"0 -960 960 960\">\n",
              "    <path d=\"M120-120v-720h720v720H120Zm60-500h600v-160H180v160Zm220 220h160v-160H400v160Zm0 220h160v-160H400v160ZM180-400h160v-160H180v160Zm440 0h160v-160H620v160ZM180-180h160v-160H180v160Zm440 0h160v-160H620v160Z\"/>\n",
              "  </svg>\n",
              "    </button>\n",
              "\n",
              "  <style>\n",
              "    .colab-df-container {\n",
              "      display:flex;\n",
              "      gap: 12px;\n",
              "    }\n",
              "\n",
              "    .colab-df-convert {\n",
              "      background-color: #E8F0FE;\n",
              "      border: none;\n",
              "      border-radius: 50%;\n",
              "      cursor: pointer;\n",
              "      display: none;\n",
              "      fill: #1967D2;\n",
              "      height: 32px;\n",
              "      padding: 0 0 0 0;\n",
              "      width: 32px;\n",
              "    }\n",
              "\n",
              "    .colab-df-convert:hover {\n",
              "      background-color: #E2EBFA;\n",
              "      box-shadow: 0px 1px 2px rgba(60, 64, 67, 0.3), 0px 1px 3px 1px rgba(60, 64, 67, 0.15);\n",
              "      fill: #174EA6;\n",
              "    }\n",
              "\n",
              "    .colab-df-buttons div {\n",
              "      margin-bottom: 4px;\n",
              "    }\n",
              "\n",
              "    [theme=dark] .colab-df-convert {\n",
              "      background-color: #3B4455;\n",
              "      fill: #D2E3FC;\n",
              "    }\n",
              "\n",
              "    [theme=dark] .colab-df-convert:hover {\n",
              "      background-color: #434B5C;\n",
              "      box-shadow: 0px 1px 3px 1px rgba(0, 0, 0, 0.15);\n",
              "      filter: drop-shadow(0px 1px 2px rgba(0, 0, 0, 0.3));\n",
              "      fill: #FFFFFF;\n",
              "    }\n",
              "  </style>\n",
              "\n",
              "    <script>\n",
              "      const buttonEl =\n",
              "        document.querySelector('#df-be4380f7-ff63-4bfe-b3bb-f6fa7621c00c button.colab-df-convert');\n",
              "      buttonEl.style.display =\n",
              "        google.colab.kernel.accessAllowed ? 'block' : 'none';\n",
              "\n",
              "      async function convertToInteractive(key) {\n",
              "        const element = document.querySelector('#df-be4380f7-ff63-4bfe-b3bb-f6fa7621c00c');\n",
              "        const dataTable =\n",
              "          await google.colab.kernel.invokeFunction('convertToInteractive',\n",
              "                                                    [key], {});\n",
              "        if (!dataTable) return;\n",
              "\n",
              "        const docLinkHtml = 'Like what you see? Visit the ' +\n",
              "          '<a target=\"_blank\" href=https://colab.research.google.com/notebooks/data_table.ipynb>data table notebook</a>'\n",
              "          + ' to learn more about interactive tables.';\n",
              "        element.innerHTML = '';\n",
              "        dataTable['output_type'] = 'display_data';\n",
              "        await google.colab.output.renderOutput(dataTable, element);\n",
              "        const docLink = document.createElement('div');\n",
              "        docLink.innerHTML = docLinkHtml;\n",
              "        element.appendChild(docLink);\n",
              "      }\n",
              "    </script>\n",
              "  </div>\n",
              "\n",
              "\n",
              "<div id=\"df-ba97c9fd-f51c-4ab5-a60e-51aea81b8789\">\n",
              "  <button class=\"colab-df-quickchart\" onclick=\"quickchart('df-ba97c9fd-f51c-4ab5-a60e-51aea81b8789')\"\n",
              "            title=\"Suggest charts.\"\n",
              "            style=\"display:none;\">\n",
              "\n",
              "<svg xmlns=\"http://www.w3.org/2000/svg\" height=\"24px\"viewBox=\"0 0 24 24\"\n",
              "     width=\"24px\">\n",
              "    <g>\n",
              "        <path d=\"M19 3H5c-1.1 0-2 .9-2 2v14c0 1.1.9 2 2 2h14c1.1 0 2-.9 2-2V5c0-1.1-.9-2-2-2zM9 17H7v-7h2v7zm4 0h-2V7h2v10zm4 0h-2v-4h2v4z\"/>\n",
              "    </g>\n",
              "</svg>\n",
              "  </button>\n",
              "\n",
              "<style>\n",
              "  .colab-df-quickchart {\n",
              "      --bg-color: #E8F0FE;\n",
              "      --fill-color: #1967D2;\n",
              "      --hover-bg-color: #E2EBFA;\n",
              "      --hover-fill-color: #174EA6;\n",
              "      --disabled-fill-color: #AAA;\n",
              "      --disabled-bg-color: #DDD;\n",
              "  }\n",
              "\n",
              "  [theme=dark] .colab-df-quickchart {\n",
              "      --bg-color: #3B4455;\n",
              "      --fill-color: #D2E3FC;\n",
              "      --hover-bg-color: #434B5C;\n",
              "      --hover-fill-color: #FFFFFF;\n",
              "      --disabled-bg-color: #3B4455;\n",
              "      --disabled-fill-color: #666;\n",
              "  }\n",
              "\n",
              "  .colab-df-quickchart {\n",
              "    background-color: var(--bg-color);\n",
              "    border: none;\n",
              "    border-radius: 50%;\n",
              "    cursor: pointer;\n",
              "    display: none;\n",
              "    fill: var(--fill-color);\n",
              "    height: 32px;\n",
              "    padding: 0;\n",
              "    width: 32px;\n",
              "  }\n",
              "\n",
              "  .colab-df-quickchart:hover {\n",
              "    background-color: var(--hover-bg-color);\n",
              "    box-shadow: 0 1px 2px rgba(60, 64, 67, 0.3), 0 1px 3px 1px rgba(60, 64, 67, 0.15);\n",
              "    fill: var(--button-hover-fill-color);\n",
              "  }\n",
              "\n",
              "  .colab-df-quickchart-complete:disabled,\n",
              "  .colab-df-quickchart-complete:disabled:hover {\n",
              "    background-color: var(--disabled-bg-color);\n",
              "    fill: var(--disabled-fill-color);\n",
              "    box-shadow: none;\n",
              "  }\n",
              "\n",
              "  .colab-df-spinner {\n",
              "    border: 2px solid var(--fill-color);\n",
              "    border-color: transparent;\n",
              "    border-bottom-color: var(--fill-color);\n",
              "    animation:\n",
              "      spin 1s steps(1) infinite;\n",
              "  }\n",
              "\n",
              "  @keyframes spin {\n",
              "    0% {\n",
              "      border-color: transparent;\n",
              "      border-bottom-color: var(--fill-color);\n",
              "      border-left-color: var(--fill-color);\n",
              "    }\n",
              "    20% {\n",
              "      border-color: transparent;\n",
              "      border-left-color: var(--fill-color);\n",
              "      border-top-color: var(--fill-color);\n",
              "    }\n",
              "    30% {\n",
              "      border-color: transparent;\n",
              "      border-left-color: var(--fill-color);\n",
              "      border-top-color: var(--fill-color);\n",
              "      border-right-color: var(--fill-color);\n",
              "    }\n",
              "    40% {\n",
              "      border-color: transparent;\n",
              "      border-right-color: var(--fill-color);\n",
              "      border-top-color: var(--fill-color);\n",
              "    }\n",
              "    60% {\n",
              "      border-color: transparent;\n",
              "      border-right-color: var(--fill-color);\n",
              "    }\n",
              "    80% {\n",
              "      border-color: transparent;\n",
              "      border-right-color: var(--fill-color);\n",
              "      border-bottom-color: var(--fill-color);\n",
              "    }\n",
              "    90% {\n",
              "      border-color: transparent;\n",
              "      border-bottom-color: var(--fill-color);\n",
              "    }\n",
              "  }\n",
              "</style>\n",
              "\n",
              "  <script>\n",
              "    async function quickchart(key) {\n",
              "      const quickchartButtonEl =\n",
              "        document.querySelector('#' + key + ' button');\n",
              "      quickchartButtonEl.disabled = true;  // To prevent multiple clicks.\n",
              "      quickchartButtonEl.classList.add('colab-df-spinner');\n",
              "      try {\n",
              "        const charts = await google.colab.kernel.invokeFunction(\n",
              "            'suggestCharts', [key], {});\n",
              "      } catch (error) {\n",
              "        console.error('Error during call to suggestCharts:', error);\n",
              "      }\n",
              "      quickchartButtonEl.classList.remove('colab-df-spinner');\n",
              "      quickchartButtonEl.classList.add('colab-df-quickchart-complete');\n",
              "    }\n",
              "    (() => {\n",
              "      let quickchartButtonEl =\n",
              "        document.querySelector('#df-ba97c9fd-f51c-4ab5-a60e-51aea81b8789 button');\n",
              "      quickchartButtonEl.style.display =\n",
              "        google.colab.kernel.accessAllowed ? 'block' : 'none';\n",
              "    })();\n",
              "  </script>\n",
              "</div>\n",
              "    </div>\n",
              "  </div>\n"
            ]
          },
          "metadata": {},
          "execution_count": 24
        }
      ]
    },
    {
      "cell_type": "markdown",
      "source": [
        "indicadores ARIMA (4,1,2)"
      ],
      "metadata": {
        "id": "xZ4C5cuwZ4vu"
      }
    },
    {
      "cell_type": "code",
      "source": [
        "ic.sort_values('BIC').head()"
      ],
      "metadata": {
        "id": "-2EGsTX5Yor9",
        "colab": {
          "base_uri": "https://localhost:8080/",
          "height": 237
        },
        "outputId": "81790fd3-2063-4e01-ac43-ecda23ed3bc3"
      },
      "execution_count": 25,
      "outputs": [
        {
          "output_type": "execute_result",
          "data": {
            "text/plain": [
              "               AIC          BIC\n",
              "AR MA                          \n",
              "0  1   1196.089478  1203.894745\n",
              "2  0   1194.232781  1205.940681\n",
              "0  3   1192.586260  1208.196793\n",
              "1  0   1201.199117  1209.004383\n",
              "0  2   1197.936567  1209.644467"
            ],
            "text/html": [
              "\n",
              "  <div id=\"df-2b76f992-79fe-4312-9dd2-82017d813763\" class=\"colab-df-container\">\n",
              "    <div>\n",
              "<style scoped>\n",
              "    .dataframe tbody tr th:only-of-type {\n",
              "        vertical-align: middle;\n",
              "    }\n",
              "\n",
              "    .dataframe tbody tr th {\n",
              "        vertical-align: top;\n",
              "    }\n",
              "\n",
              "    .dataframe thead th {\n",
              "        text-align: right;\n",
              "    }\n",
              "</style>\n",
              "<table border=\"1\" class=\"dataframe\">\n",
              "  <thead>\n",
              "    <tr style=\"text-align: right;\">\n",
              "      <th></th>\n",
              "      <th></th>\n",
              "      <th>AIC</th>\n",
              "      <th>BIC</th>\n",
              "    </tr>\n",
              "    <tr>\n",
              "      <th>AR</th>\n",
              "      <th>MA</th>\n",
              "      <th></th>\n",
              "      <th></th>\n",
              "    </tr>\n",
              "  </thead>\n",
              "  <tbody>\n",
              "    <tr>\n",
              "      <th>0</th>\n",
              "      <th>1</th>\n",
              "      <td>1196.089478</td>\n",
              "      <td>1203.894745</td>\n",
              "    </tr>\n",
              "    <tr>\n",
              "      <th>2</th>\n",
              "      <th>0</th>\n",
              "      <td>1194.232781</td>\n",
              "      <td>1205.940681</td>\n",
              "    </tr>\n",
              "    <tr>\n",
              "      <th>0</th>\n",
              "      <th>3</th>\n",
              "      <td>1192.586260</td>\n",
              "      <td>1208.196793</td>\n",
              "    </tr>\n",
              "    <tr>\n",
              "      <th>1</th>\n",
              "      <th>0</th>\n",
              "      <td>1201.199117</td>\n",
              "      <td>1209.004383</td>\n",
              "    </tr>\n",
              "    <tr>\n",
              "      <th>0</th>\n",
              "      <th>2</th>\n",
              "      <td>1197.936567</td>\n",
              "      <td>1209.644467</td>\n",
              "    </tr>\n",
              "  </tbody>\n",
              "</table>\n",
              "</div>\n",
              "    <div class=\"colab-df-buttons\">\n",
              "\n",
              "  <div class=\"colab-df-container\">\n",
              "    <button class=\"colab-df-convert\" onclick=\"convertToInteractive('df-2b76f992-79fe-4312-9dd2-82017d813763')\"\n",
              "            title=\"Convert this dataframe to an interactive table.\"\n",
              "            style=\"display:none;\">\n",
              "\n",
              "  <svg xmlns=\"http://www.w3.org/2000/svg\" height=\"24px\" viewBox=\"0 -960 960 960\">\n",
              "    <path d=\"M120-120v-720h720v720H120Zm60-500h600v-160H180v160Zm220 220h160v-160H400v160Zm0 220h160v-160H400v160ZM180-400h160v-160H180v160Zm440 0h160v-160H620v160ZM180-180h160v-160H180v160Zm440 0h160v-160H620v160Z\"/>\n",
              "  </svg>\n",
              "    </button>\n",
              "\n",
              "  <style>\n",
              "    .colab-df-container {\n",
              "      display:flex;\n",
              "      gap: 12px;\n",
              "    }\n",
              "\n",
              "    .colab-df-convert {\n",
              "      background-color: #E8F0FE;\n",
              "      border: none;\n",
              "      border-radius: 50%;\n",
              "      cursor: pointer;\n",
              "      display: none;\n",
              "      fill: #1967D2;\n",
              "      height: 32px;\n",
              "      padding: 0 0 0 0;\n",
              "      width: 32px;\n",
              "    }\n",
              "\n",
              "    .colab-df-convert:hover {\n",
              "      background-color: #E2EBFA;\n",
              "      box-shadow: 0px 1px 2px rgba(60, 64, 67, 0.3), 0px 1px 3px 1px rgba(60, 64, 67, 0.15);\n",
              "      fill: #174EA6;\n",
              "    }\n",
              "\n",
              "    .colab-df-buttons div {\n",
              "      margin-bottom: 4px;\n",
              "    }\n",
              "\n",
              "    [theme=dark] .colab-df-convert {\n",
              "      background-color: #3B4455;\n",
              "      fill: #D2E3FC;\n",
              "    }\n",
              "\n",
              "    [theme=dark] .colab-df-convert:hover {\n",
              "      background-color: #434B5C;\n",
              "      box-shadow: 0px 1px 3px 1px rgba(0, 0, 0, 0.15);\n",
              "      filter: drop-shadow(0px 1px 2px rgba(0, 0, 0, 0.3));\n",
              "      fill: #FFFFFF;\n",
              "    }\n",
              "  </style>\n",
              "\n",
              "    <script>\n",
              "      const buttonEl =\n",
              "        document.querySelector('#df-2b76f992-79fe-4312-9dd2-82017d813763 button.colab-df-convert');\n",
              "      buttonEl.style.display =\n",
              "        google.colab.kernel.accessAllowed ? 'block' : 'none';\n",
              "\n",
              "      async function convertToInteractive(key) {\n",
              "        const element = document.querySelector('#df-2b76f992-79fe-4312-9dd2-82017d813763');\n",
              "        const dataTable =\n",
              "          await google.colab.kernel.invokeFunction('convertToInteractive',\n",
              "                                                    [key], {});\n",
              "        if (!dataTable) return;\n",
              "\n",
              "        const docLinkHtml = 'Like what you see? Visit the ' +\n",
              "          '<a target=\"_blank\" href=https://colab.research.google.com/notebooks/data_table.ipynb>data table notebook</a>'\n",
              "          + ' to learn more about interactive tables.';\n",
              "        element.innerHTML = '';\n",
              "        dataTable['output_type'] = 'display_data';\n",
              "        await google.colab.output.renderOutput(dataTable, element);\n",
              "        const docLink = document.createElement('div');\n",
              "        docLink.innerHTML = docLinkHtml;\n",
              "        element.appendChild(docLink);\n",
              "      }\n",
              "    </script>\n",
              "  </div>\n",
              "\n",
              "\n",
              "<div id=\"df-0df3660f-05a2-45e8-b3b2-55196b613099\">\n",
              "  <button class=\"colab-df-quickchart\" onclick=\"quickchart('df-0df3660f-05a2-45e8-b3b2-55196b613099')\"\n",
              "            title=\"Suggest charts.\"\n",
              "            style=\"display:none;\">\n",
              "\n",
              "<svg xmlns=\"http://www.w3.org/2000/svg\" height=\"24px\"viewBox=\"0 0 24 24\"\n",
              "     width=\"24px\">\n",
              "    <g>\n",
              "        <path d=\"M19 3H5c-1.1 0-2 .9-2 2v14c0 1.1.9 2 2 2h14c1.1 0 2-.9 2-2V5c0-1.1-.9-2-2-2zM9 17H7v-7h2v7zm4 0h-2V7h2v10zm4 0h-2v-4h2v4z\"/>\n",
              "    </g>\n",
              "</svg>\n",
              "  </button>\n",
              "\n",
              "<style>\n",
              "  .colab-df-quickchart {\n",
              "      --bg-color: #E8F0FE;\n",
              "      --fill-color: #1967D2;\n",
              "      --hover-bg-color: #E2EBFA;\n",
              "      --hover-fill-color: #174EA6;\n",
              "      --disabled-fill-color: #AAA;\n",
              "      --disabled-bg-color: #DDD;\n",
              "  }\n",
              "\n",
              "  [theme=dark] .colab-df-quickchart {\n",
              "      --bg-color: #3B4455;\n",
              "      --fill-color: #D2E3FC;\n",
              "      --hover-bg-color: #434B5C;\n",
              "      --hover-fill-color: #FFFFFF;\n",
              "      --disabled-bg-color: #3B4455;\n",
              "      --disabled-fill-color: #666;\n",
              "  }\n",
              "\n",
              "  .colab-df-quickchart {\n",
              "    background-color: var(--bg-color);\n",
              "    border: none;\n",
              "    border-radius: 50%;\n",
              "    cursor: pointer;\n",
              "    display: none;\n",
              "    fill: var(--fill-color);\n",
              "    height: 32px;\n",
              "    padding: 0;\n",
              "    width: 32px;\n",
              "  }\n",
              "\n",
              "  .colab-df-quickchart:hover {\n",
              "    background-color: var(--hover-bg-color);\n",
              "    box-shadow: 0 1px 2px rgba(60, 64, 67, 0.3), 0 1px 3px 1px rgba(60, 64, 67, 0.15);\n",
              "    fill: var(--button-hover-fill-color);\n",
              "  }\n",
              "\n",
              "  .colab-df-quickchart-complete:disabled,\n",
              "  .colab-df-quickchart-complete:disabled:hover {\n",
              "    background-color: var(--disabled-bg-color);\n",
              "    fill: var(--disabled-fill-color);\n",
              "    box-shadow: none;\n",
              "  }\n",
              "\n",
              "  .colab-df-spinner {\n",
              "    border: 2px solid var(--fill-color);\n",
              "    border-color: transparent;\n",
              "    border-bottom-color: var(--fill-color);\n",
              "    animation:\n",
              "      spin 1s steps(1) infinite;\n",
              "  }\n",
              "\n",
              "  @keyframes spin {\n",
              "    0% {\n",
              "      border-color: transparent;\n",
              "      border-bottom-color: var(--fill-color);\n",
              "      border-left-color: var(--fill-color);\n",
              "    }\n",
              "    20% {\n",
              "      border-color: transparent;\n",
              "      border-left-color: var(--fill-color);\n",
              "      border-top-color: var(--fill-color);\n",
              "    }\n",
              "    30% {\n",
              "      border-color: transparent;\n",
              "      border-left-color: var(--fill-color);\n",
              "      border-top-color: var(--fill-color);\n",
              "      border-right-color: var(--fill-color);\n",
              "    }\n",
              "    40% {\n",
              "      border-color: transparent;\n",
              "      border-right-color: var(--fill-color);\n",
              "      border-top-color: var(--fill-color);\n",
              "    }\n",
              "    60% {\n",
              "      border-color: transparent;\n",
              "      border-right-color: var(--fill-color);\n",
              "    }\n",
              "    80% {\n",
              "      border-color: transparent;\n",
              "      border-right-color: var(--fill-color);\n",
              "      border-bottom-color: var(--fill-color);\n",
              "    }\n",
              "    90% {\n",
              "      border-color: transparent;\n",
              "      border-bottom-color: var(--fill-color);\n",
              "    }\n",
              "  }\n",
              "</style>\n",
              "\n",
              "  <script>\n",
              "    async function quickchart(key) {\n",
              "      const quickchartButtonEl =\n",
              "        document.querySelector('#' + key + ' button');\n",
              "      quickchartButtonEl.disabled = true;  // To prevent multiple clicks.\n",
              "      quickchartButtonEl.classList.add('colab-df-spinner');\n",
              "      try {\n",
              "        const charts = await google.colab.kernel.invokeFunction(\n",
              "            'suggestCharts', [key], {});\n",
              "      } catch (error) {\n",
              "        console.error('Error during call to suggestCharts:', error);\n",
              "      }\n",
              "      quickchartButtonEl.classList.remove('colab-df-spinner');\n",
              "      quickchartButtonEl.classList.add('colab-df-quickchart-complete');\n",
              "    }\n",
              "    (() => {\n",
              "      let quickchartButtonEl =\n",
              "        document.querySelector('#df-0df3660f-05a2-45e8-b3b2-55196b613099 button');\n",
              "      quickchartButtonEl.style.display =\n",
              "        google.colab.kernel.accessAllowed ? 'block' : 'none';\n",
              "    })();\n",
              "  </script>\n",
              "</div>\n",
              "    </div>\n",
              "  </div>\n"
            ]
          },
          "metadata": {},
          "execution_count": 25
        }
      ]
    },
    {
      "cell_type": "markdown",
      "source": [
        "indicadores ARIMA (0,1,1)"
      ],
      "metadata": {
        "id": "12LfIzf5aV9X"
      }
    },
    {
      "cell_type": "code",
      "source": [
        "model = ARIMA(indicadores['IMCMI_SA'], order=(0,1,1))\n",
        "results=model.fit()\n",
        "print(results.summary())"
      ],
      "metadata": {
        "id": "hcpg1fwCYpZj",
        "colab": {
          "base_uri": "https://localhost:8080/"
        },
        "outputId": "957477c2-794f-4b62-ab57-909bda272820"
      },
      "execution_count": 33,
      "outputs": [
        {
          "output_type": "stream",
          "name": "stdout",
          "text": [
            "                               SARIMAX Results                                \n",
            "==============================================================================\n",
            "Dep. Variable:               IMCMI_SA   No. Observations:                  367\n",
            "Model:                 ARIMA(0, 1, 1)   Log Likelihood                -596.045\n",
            "Date:                Fri, 03 Nov 2023   AIC                           1196.089\n",
            "Time:                        01:43:03   BIC                           1203.895\n",
            "Sample:                    01-01-1993   HQIC                          1199.191\n",
            "                         - 07-01-2023                                         \n",
            "Covariance Type:                  opg                                         \n",
            "==============================================================================\n",
            "                 coef    std err          z      P>|z|      [0.025      0.975]\n",
            "------------------------------------------------------------------------------\n",
            "ma.L1          0.2858      0.025     11.572      0.000       0.237       0.334\n",
            "sigma2         1.5204      0.035     43.912      0.000       1.453       1.588\n",
            "===================================================================================\n",
            "Ljung-Box (L1) (Q):                   0.07   Jarque-Bera (JB):             79937.29\n",
            "Prob(Q):                              0.78   Prob(JB):                         0.00\n",
            "Heteroskedasticity (H):               6.42   Skew:                            -5.63\n",
            "Prob(H) (two-sided):                  0.00   Kurtosis:                        74.52\n",
            "===================================================================================\n",
            "\n",
            "Warnings:\n",
            "[1] Covariance matrix calculated using the outer product of gradients (complex-step).\n"
          ]
        }
      ]
    },
    {
      "cell_type": "code",
      "source": [
        "forecast = results.get_forecast(steps=3)\n",
        "forecast_mean = forecast.predicted_mean\n",
        "forecast_ci=forecast.conf_int()"
      ],
      "metadata": {
        "id": "aCFGU2Sjdaw6"
      },
      "execution_count": 34,
      "outputs": []
    },
    {
      "cell_type": "code",
      "source": [
        "inicio = '2023-08-01'\n",
        "fin = '2023-10-01'"
      ],
      "metadata": {
        "id": "MuDvsxXtdbJp"
      },
      "execution_count": 35,
      "outputs": []
    },
    {
      "cell_type": "code",
      "source": [
        "pronostico_valor = forecast_mean[inicio:fin]\n",
        "pronostico_intervalos = forecast_ci.loc[inicio:fin]"
      ],
      "metadata": {
        "id": "qGzBGKg_d4OE"
      },
      "execution_count": 36,
      "outputs": []
    },
    {
      "cell_type": "code",
      "source": [
        "df_forecast = pd.DataFrame({\n",
        "    'pronostico':pronostico_valor,\n",
        "    'limite inferior': pronostico_intervalos['lower IMCMI_SA'],\n",
        "    'limite superior': pronostico_intervalos['upper IMCMI_SA']\n",
        "})"
      ],
      "metadata": {
        "id": "0gyPufoxd-HB"
      },
      "execution_count": 37,
      "outputs": []
    },
    {
      "cell_type": "code",
      "source": [
        "df_forecast"
      ],
      "metadata": {
        "id": "2jO80KKTeYIl",
        "colab": {
          "base_uri": "https://localhost:8080/",
          "height": 143
        },
        "outputId": "620d0dbd-a7d5-41c3-c8da-dbb56e2bff5a"
      },
      "execution_count": 38,
      "outputs": [
        {
          "output_type": "execute_result",
          "data": {
            "text/plain": [
              "            pronostico  limite inferior  limite superior\n",
              "2023-08-01  108.179016       105.762312       110.595720\n",
              "2023-09-01  108.179016       104.242490       112.115542\n",
              "2023-10-01  108.179016       103.163837       113.194195"
            ],
            "text/html": [
              "\n",
              "  <div id=\"df-414ad74e-ba64-476e-b59b-b9659ab1ee75\" class=\"colab-df-container\">\n",
              "    <div>\n",
              "<style scoped>\n",
              "    .dataframe tbody tr th:only-of-type {\n",
              "        vertical-align: middle;\n",
              "    }\n",
              "\n",
              "    .dataframe tbody tr th {\n",
              "        vertical-align: top;\n",
              "    }\n",
              "\n",
              "    .dataframe thead th {\n",
              "        text-align: right;\n",
              "    }\n",
              "</style>\n",
              "<table border=\"1\" class=\"dataframe\">\n",
              "  <thead>\n",
              "    <tr style=\"text-align: right;\">\n",
              "      <th></th>\n",
              "      <th>pronostico</th>\n",
              "      <th>limite inferior</th>\n",
              "      <th>limite superior</th>\n",
              "    </tr>\n",
              "  </thead>\n",
              "  <tbody>\n",
              "    <tr>\n",
              "      <th>2023-08-01</th>\n",
              "      <td>108.179016</td>\n",
              "      <td>105.762312</td>\n",
              "      <td>110.595720</td>\n",
              "    </tr>\n",
              "    <tr>\n",
              "      <th>2023-09-01</th>\n",
              "      <td>108.179016</td>\n",
              "      <td>104.242490</td>\n",
              "      <td>112.115542</td>\n",
              "    </tr>\n",
              "    <tr>\n",
              "      <th>2023-10-01</th>\n",
              "      <td>108.179016</td>\n",
              "      <td>103.163837</td>\n",
              "      <td>113.194195</td>\n",
              "    </tr>\n",
              "  </tbody>\n",
              "</table>\n",
              "</div>\n",
              "    <div class=\"colab-df-buttons\">\n",
              "\n",
              "  <div class=\"colab-df-container\">\n",
              "    <button class=\"colab-df-convert\" onclick=\"convertToInteractive('df-414ad74e-ba64-476e-b59b-b9659ab1ee75')\"\n",
              "            title=\"Convert this dataframe to an interactive table.\"\n",
              "            style=\"display:none;\">\n",
              "\n",
              "  <svg xmlns=\"http://www.w3.org/2000/svg\" height=\"24px\" viewBox=\"0 -960 960 960\">\n",
              "    <path d=\"M120-120v-720h720v720H120Zm60-500h600v-160H180v160Zm220 220h160v-160H400v160Zm0 220h160v-160H400v160ZM180-400h160v-160H180v160Zm440 0h160v-160H620v160ZM180-180h160v-160H180v160Zm440 0h160v-160H620v160Z\"/>\n",
              "  </svg>\n",
              "    </button>\n",
              "\n",
              "  <style>\n",
              "    .colab-df-container {\n",
              "      display:flex;\n",
              "      gap: 12px;\n",
              "    }\n",
              "\n",
              "    .colab-df-convert {\n",
              "      background-color: #E8F0FE;\n",
              "      border: none;\n",
              "      border-radius: 50%;\n",
              "      cursor: pointer;\n",
              "      display: none;\n",
              "      fill: #1967D2;\n",
              "      height: 32px;\n",
              "      padding: 0 0 0 0;\n",
              "      width: 32px;\n",
              "    }\n",
              "\n",
              "    .colab-df-convert:hover {\n",
              "      background-color: #E2EBFA;\n",
              "      box-shadow: 0px 1px 2px rgba(60, 64, 67, 0.3), 0px 1px 3px 1px rgba(60, 64, 67, 0.15);\n",
              "      fill: #174EA6;\n",
              "    }\n",
              "\n",
              "    .colab-df-buttons div {\n",
              "      margin-bottom: 4px;\n",
              "    }\n",
              "\n",
              "    [theme=dark] .colab-df-convert {\n",
              "      background-color: #3B4455;\n",
              "      fill: #D2E3FC;\n",
              "    }\n",
              "\n",
              "    [theme=dark] .colab-df-convert:hover {\n",
              "      background-color: #434B5C;\n",
              "      box-shadow: 0px 1px 3px 1px rgba(0, 0, 0, 0.15);\n",
              "      filter: drop-shadow(0px 1px 2px rgba(0, 0, 0, 0.3));\n",
              "      fill: #FFFFFF;\n",
              "    }\n",
              "  </style>\n",
              "\n",
              "    <script>\n",
              "      const buttonEl =\n",
              "        document.querySelector('#df-414ad74e-ba64-476e-b59b-b9659ab1ee75 button.colab-df-convert');\n",
              "      buttonEl.style.display =\n",
              "        google.colab.kernel.accessAllowed ? 'block' : 'none';\n",
              "\n",
              "      async function convertToInteractive(key) {\n",
              "        const element = document.querySelector('#df-414ad74e-ba64-476e-b59b-b9659ab1ee75');\n",
              "        const dataTable =\n",
              "          await google.colab.kernel.invokeFunction('convertToInteractive',\n",
              "                                                    [key], {});\n",
              "        if (!dataTable) return;\n",
              "\n",
              "        const docLinkHtml = 'Like what you see? Visit the ' +\n",
              "          '<a target=\"_blank\" href=https://colab.research.google.com/notebooks/data_table.ipynb>data table notebook</a>'\n",
              "          + ' to learn more about interactive tables.';\n",
              "        element.innerHTML = '';\n",
              "        dataTable['output_type'] = 'display_data';\n",
              "        await google.colab.output.renderOutput(dataTable, element);\n",
              "        const docLink = document.createElement('div');\n",
              "        docLink.innerHTML = docLinkHtml;\n",
              "        element.appendChild(docLink);\n",
              "      }\n",
              "    </script>\n",
              "  </div>\n",
              "\n",
              "\n",
              "<div id=\"df-4a5f0c6b-81f0-4c57-9a2c-85c0f4729674\">\n",
              "  <button class=\"colab-df-quickchart\" onclick=\"quickchart('df-4a5f0c6b-81f0-4c57-9a2c-85c0f4729674')\"\n",
              "            title=\"Suggest charts.\"\n",
              "            style=\"display:none;\">\n",
              "\n",
              "<svg xmlns=\"http://www.w3.org/2000/svg\" height=\"24px\"viewBox=\"0 0 24 24\"\n",
              "     width=\"24px\">\n",
              "    <g>\n",
              "        <path d=\"M19 3H5c-1.1 0-2 .9-2 2v14c0 1.1.9 2 2 2h14c1.1 0 2-.9 2-2V5c0-1.1-.9-2-2-2zM9 17H7v-7h2v7zm4 0h-2V7h2v10zm4 0h-2v-4h2v4z\"/>\n",
              "    </g>\n",
              "</svg>\n",
              "  </button>\n",
              "\n",
              "<style>\n",
              "  .colab-df-quickchart {\n",
              "      --bg-color: #E8F0FE;\n",
              "      --fill-color: #1967D2;\n",
              "      --hover-bg-color: #E2EBFA;\n",
              "      --hover-fill-color: #174EA6;\n",
              "      --disabled-fill-color: #AAA;\n",
              "      --disabled-bg-color: #DDD;\n",
              "  }\n",
              "\n",
              "  [theme=dark] .colab-df-quickchart {\n",
              "      --bg-color: #3B4455;\n",
              "      --fill-color: #D2E3FC;\n",
              "      --hover-bg-color: #434B5C;\n",
              "      --hover-fill-color: #FFFFFF;\n",
              "      --disabled-bg-color: #3B4455;\n",
              "      --disabled-fill-color: #666;\n",
              "  }\n",
              "\n",
              "  .colab-df-quickchart {\n",
              "    background-color: var(--bg-color);\n",
              "    border: none;\n",
              "    border-radius: 50%;\n",
              "    cursor: pointer;\n",
              "    display: none;\n",
              "    fill: var(--fill-color);\n",
              "    height: 32px;\n",
              "    padding: 0;\n",
              "    width: 32px;\n",
              "  }\n",
              "\n",
              "  .colab-df-quickchart:hover {\n",
              "    background-color: var(--hover-bg-color);\n",
              "    box-shadow: 0 1px 2px rgba(60, 64, 67, 0.3), 0 1px 3px 1px rgba(60, 64, 67, 0.15);\n",
              "    fill: var(--button-hover-fill-color);\n",
              "  }\n",
              "\n",
              "  .colab-df-quickchart-complete:disabled,\n",
              "  .colab-df-quickchart-complete:disabled:hover {\n",
              "    background-color: var(--disabled-bg-color);\n",
              "    fill: var(--disabled-fill-color);\n",
              "    box-shadow: none;\n",
              "  }\n",
              "\n",
              "  .colab-df-spinner {\n",
              "    border: 2px solid var(--fill-color);\n",
              "    border-color: transparent;\n",
              "    border-bottom-color: var(--fill-color);\n",
              "    animation:\n",
              "      spin 1s steps(1) infinite;\n",
              "  }\n",
              "\n",
              "  @keyframes spin {\n",
              "    0% {\n",
              "      border-color: transparent;\n",
              "      border-bottom-color: var(--fill-color);\n",
              "      border-left-color: var(--fill-color);\n",
              "    }\n",
              "    20% {\n",
              "      border-color: transparent;\n",
              "      border-left-color: var(--fill-color);\n",
              "      border-top-color: var(--fill-color);\n",
              "    }\n",
              "    30% {\n",
              "      border-color: transparent;\n",
              "      border-left-color: var(--fill-color);\n",
              "      border-top-color: var(--fill-color);\n",
              "      border-right-color: var(--fill-color);\n",
              "    }\n",
              "    40% {\n",
              "      border-color: transparent;\n",
              "      border-right-color: var(--fill-color);\n",
              "      border-top-color: var(--fill-color);\n",
              "    }\n",
              "    60% {\n",
              "      border-color: transparent;\n",
              "      border-right-color: var(--fill-color);\n",
              "    }\n",
              "    80% {\n",
              "      border-color: transparent;\n",
              "      border-right-color: var(--fill-color);\n",
              "      border-bottom-color: var(--fill-color);\n",
              "    }\n",
              "    90% {\n",
              "      border-color: transparent;\n",
              "      border-bottom-color: var(--fill-color);\n",
              "    }\n",
              "  }\n",
              "</style>\n",
              "\n",
              "  <script>\n",
              "    async function quickchart(key) {\n",
              "      const quickchartButtonEl =\n",
              "        document.querySelector('#' + key + ' button');\n",
              "      quickchartButtonEl.disabled = true;  // To prevent multiple clicks.\n",
              "      quickchartButtonEl.classList.add('colab-df-spinner');\n",
              "      try {\n",
              "        const charts = await google.colab.kernel.invokeFunction(\n",
              "            'suggestCharts', [key], {});\n",
              "      } catch (error) {\n",
              "        console.error('Error during call to suggestCharts:', error);\n",
              "      }\n",
              "      quickchartButtonEl.classList.remove('colab-df-spinner');\n",
              "      quickchartButtonEl.classList.add('colab-df-quickchart-complete');\n",
              "    }\n",
              "    (() => {\n",
              "      let quickchartButtonEl =\n",
              "        document.querySelector('#df-4a5f0c6b-81f0-4c57-9a2c-85c0f4729674 button');\n",
              "      quickchartButtonEl.style.display =\n",
              "        google.colab.kernel.accessAllowed ? 'block' : 'none';\n",
              "    })();\n",
              "  </script>\n",
              "</div>\n",
              "    </div>\n",
              "  </div>\n"
            ]
          },
          "metadata": {},
          "execution_count": 38
        }
      ]
    },
    {
      "cell_type": "code",
      "source": [
        "print(f'Pronosticamos que el indicador comienza en {df_forecast.iloc[0,0].round(2)}\\n pero puede estar entre {df_forecast.iloc[0,1].round(2)} y {df_forecast.iloc[0,2].round(2)}')\n"
      ],
      "metadata": {
        "id": "3nwlcYF1eqUS",
        "colab": {
          "base_uri": "https://localhost:8080/"
        },
        "outputId": "70d5dea3-1d5a-4f41-c77f-092027d57b35"
      },
      "execution_count": 39,
      "outputs": [
        {
          "output_type": "stream",
          "name": "stdout",
          "text": [
            "Pronosticamos que el indicador comienza en 108.18\n",
            " pero puede estar entre 105.76 y 110.6\n"
          ]
        }
      ]
    }
  ]
}